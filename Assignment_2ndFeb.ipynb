{
 "cells": [
  {
   "cell_type": "code",
   "execution_count": 7,
   "id": "ade75642-e069-482c-b7b0-6a094624f03a",
   "metadata": {},
   "outputs": [
    {
     "data": {
      "text/plain": [
       "335"
      ]
     },
     "execution_count": 7,
     "metadata": {},
     "output_type": "execute_result"
    }
   ],
   "source": [
    "#Que 1 : Answer \n",
    "#Example\n",
    "#Adding All the element in List using For Loop\n",
    "list1=[11,12,13,67,78,98,56]\n",
    "Sum=0\n",
    "for i in list1:\n",
    "    Sum = Sum+i\n",
    "Sum\n",
    "    "
   ]
  },
  {
   "cell_type": "code",
   "execution_count": 12,
   "id": "d56366f5-e07b-46f9-9fe6-b9131143e712",
   "metadata": {},
   "outputs": [
    {
     "data": {
      "text/plain": [
       "455"
      ]
     },
     "execution_count": 12,
     "metadata": {},
     "output_type": "execute_result"
    }
   ],
   "source": [
    "#Example\n",
    "#Adding All the element in List using While Loop\n",
    "list2=[98,87,76,65,54,43,32]\n",
    "Add=0\n",
    "Counter=0\n",
    "while Counter<=(len(list2)-1):\n",
    "    Add = Add+list2[Counter]\n",
    "    Counter=Counter+1\n",
    "Add\n"
   ]
  },
  {
   "cell_type": "code",
   "execution_count": 17,
   "id": "8a923d97-ba43-4467-b8e3-30a881a04f18",
   "metadata": {},
   "outputs": [
    {
     "name": "stdout",
     "output_type": "stream",
     "text": [
      "Sum of 10 Natural Number is  55\n",
      "Product of 10 Natural Number is  3628800\n"
     ]
    }
   ],
   "source": [
    "#Que 2 : Answer\n",
    "#Using For Loop\n",
    "\n",
    "Sum=0\n",
    "Product=1\n",
    "for i in range(1,11):\n",
    "    Sum=Sum+i\n",
    "    Product=Product*i\n",
    "print(\"Sum of 10 Natural Number is \",Sum)\n",
    "print(\"Product of 10 Natural Number is \",Product)\n"
   ]
  },
  {
   "cell_type": "code",
   "execution_count": 21,
   "id": "07e504a0-368d-4c1a-b7c6-07d5910371a0",
   "metadata": {},
   "outputs": [
    {
     "name": "stdout",
     "output_type": "stream",
     "text": [
      "Sum of 10 Natural Number is  55\n",
      "Product of 10 Natural Number is  3628800\n"
     ]
    }
   ],
   "source": [
    "#using While Loop\n",
    "\n",
    "Sum=0\n",
    "Counter=1\n",
    "Product=1\n",
    "while Counter<=10:\n",
    "    Sum=Sum+Counter\n",
    "    Product=Product*Counter\n",
    "    Counter=Counter+1\n",
    "\n",
    "print(\"Sum of 10 Natural Number is \",Sum)\n",
    "print(\"Product of 10 Natural Number is \",Product)\n"
   ]
  },
  {
   "cell_type": "code",
   "execution_count": 28,
   "id": "95b96d2a-41ef-4654-81bb-427b1813c8cb",
   "metadata": {},
   "outputs": [
    {
     "name": "stdin",
     "output_type": "stream",
     "text": [
      "Total Unit Consume By Customer :  310\n"
     ]
    },
    {
     "name": "stdout",
     "output_type": "stream",
     "text": [
      "Total Bill :  2250.0\n"
     ]
    }
   ],
   "source": [
    "#Que 3 : Answer\n",
    "\n",
    "Unit=int(input(\"Total Unit Consume By Customer : \"))\n",
    "Unit1,Unit2,Unit3,Unit4=1,1,1,1\n",
    "Charge=0\n",
    "if Unit > 300:\n",
    "    Unit1 = Unit-300\n",
    "    Charge=Charge+(Unit1*20)\n",
    "    Unit=Unit-Unit1\n",
    "if Unit > 200 and Unit<=300 :\n",
    "    Unit2 = Unit-200\n",
    "    Charge=Charge+Unit2*10\n",
    "    Unit=Unit-Unit2\n",
    "if Unit > 100 and Unit<=200 :\n",
    "    Unit3 = Unit-100\n",
    "    Charge=Charge+Unit3*6\n",
    "    Unit=Unit-Unit3\n",
    "if Unit<=100 :\n",
    "    Unit4 = Unit\n",
    "    Charge=Charge+Unit4*4.5\n",
    "    Unit=Unit-Unit4    \n",
    "print(\"Total Bill : \", Charge)\n"
   ]
  },
  {
   "cell_type": "code",
   "execution_count": 20,
   "id": "838443b7-5b31-4c4b-a128-2e8b838265b1",
   "metadata": {},
   "outputs": [
    {
     "name": "stdout",
     "output_type": "stream",
     "text": [
      "[4, 5, 8, 10, 12, 15, 16, 20, 24, 25, 28, 30, 32, 35, 36, 40, 44, 45, 48, 50, 52, 55, 56, 60, 64, 65, 68, 70, 72, 75, 76, 80, 84, 85, 88, 90, 92, 95, 96, 100]\n"
     ]
    }
   ],
   "source": [
    "#Que 4 : Answer\n",
    "list1=[]\n",
    "list2=[]\n",
    "\n",
    "for i in range(1,101):\n",
    "    list1.append(i)\n",
    "\n",
    "for j in list1:\n",
    "    if (j%4)==0 or (j%5)==0 :\n",
    "        list2.append(j)\n",
    "\n",
    "print(list2)   "
   ]
  },
  {
   "cell_type": "code",
   "execution_count": 22,
   "id": "6b67da0d-9dcd-43c4-8cf3-84d4b627d77f",
   "metadata": {},
   "outputs": [
    {
     "name": "stdout",
     "output_type": "stream",
     "text": [
      "11\n"
     ]
    }
   ],
   "source": [
    "#Que 5 : Answer\n",
    "\n",
    "String=\"I want to become a data scientist\"\n",
    "String1=St\n",
    "count=0\n",
    "for i in String:\n",
    "    if i=='e' or i == 'a' or i =='i' or i == 'o' or i=='u' :\n",
    "        count=count+1\n",
    "print(count)\n"
   ]
  },
  {
   "cell_type": "code",
   "execution_count": null,
   "id": "4008616f-28d9-43f3-a0fd-a9930c80073d",
   "metadata": {},
   "outputs": [],
   "source": []
  },
  {
   "cell_type": "code",
   "execution_count": null,
   "id": "4a34283f-aa43-48a0-a994-b31b3eab67b6",
   "metadata": {},
   "outputs": [],
   "source": []
  }
 ],
 "metadata": {
  "kernelspec": {
   "display_name": "Python 3 (ipykernel)",
   "language": "python",
   "name": "python3"
  },
  "language_info": {
   "codemirror_mode": {
    "name": "ipython",
    "version": 3
   },
   "file_extension": ".py",
   "mimetype": "text/x-python",
   "name": "python",
   "nbconvert_exporter": "python",
   "pygments_lexer": "ipython3",
   "version": "3.10.8"
  }
 },
 "nbformat": 4,
 "nbformat_minor": 5
}
