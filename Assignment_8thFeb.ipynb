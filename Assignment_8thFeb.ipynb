{
 "cells": [
  {
   "cell_type": "code",
   "execution_count": 2,
   "id": "e6f41749-ee15-4653-9f3a-fc9f4b8bd56d",
   "metadata": {},
   "outputs": [
    {
     "name": "stdout",
     "output_type": "stream",
     "text": [
      "The mileage is 30kmph\n",
      "The mileage is 27kmph \n",
      "The mileage is 25kmph \n",
      "The mileage is 24kmph \n"
     ]
    }
   ],
   "source": [
    "#Ques : 1 : Answer\n",
    "\"\"\"\n",
    "Abstraction in python is defined as a process of handling complexity by hiding unnecessary information \n",
    "from the user. This is one of the core concepts of object-oriented programming (OOP) languages.\n",
    "Abstraction classes are meant to be the blueprint of the other class. An abstract class can be useful when \n",
    "we are designing large functions. An abstract class is also helpful to provide the standard interface for \n",
    "different implementations of components. Python provides the abc module to use the abstraction in the Python program.\"\"\"\n",
    "\n",
    "from abc import ABC, abstractmethod   \n",
    "class Car(ABC):   \n",
    "    def mileage(self):   \n",
    "        pass  \n",
    "\n",
    "class Tesla(Car):   \n",
    "    def mileage(self):   \n",
    "        print(\"The mileage is 30kmph\")   \n",
    "class Suzuki(Car):   \n",
    "    def mileage(self):   \n",
    "        print(\"The mileage is 25kmph \")   \n",
    "class Duster(Car):   \n",
    "     def mileage(self):   \n",
    "        print(\"The mileage is 24kmph \")   \n",
    "class Renault(Car):   \n",
    "    def mileage(self):   \n",
    "            print(\"The mileage is 27kmph \")   \n",
    "             \n",
    "t= Tesla ()   \n",
    "t.mileage()   \n",
    "  \n",
    "r = Renault()   \n",
    "r.mileage()   \n",
    "  \n",
    "s = Suzuki()   \n",
    "s.mileage()  \n",
    "\n",
    "d = Duster()   \n",
    "d.mileage()"
   ]
  },
  {
   "cell_type": "code",
   "execution_count": 3,
   "id": "ab271c9f-fc53-4962-8455-7ac1a629a037",
   "metadata": {},
   "outputs": [
    {
     "data": {
      "text/plain": [
       "'an example of mobile devices to clarify the Abstraction vs Encapsulation in Java. Using smartphones, \\nyou can perform tasks like capturing photos, recording audio/video, listening to music, accessing the web, etc. \\nThese features are common in all smartphones. You don’t have to understand the internal working of these features. \\nFor example, you don’t need to know how your camera recognizes a human face in an image or how it calculates gamma \\ncorrection. You simply need to learn the software interface. So, it is a real-world example of encapsulation.'"
      ]
     },
     "execution_count": 3,
     "metadata": {},
     "output_type": "execute_result"
    }
   ],
   "source": [
    "#Ques 2 :  Answer\n",
    "\n",
    "\"\"\"Abstraction is hiding the details and implementation of the code.\n",
    "Encapsulation is hiding the data and controlling the visibility of the code.\"\"\"\n",
    "\n",
    "\"\"\"we take an example of a banking application to understand Abstraction. \n",
    "Suppose you want to develop a banking application and are asked to gather all the details of your customer. \n",
    "You may gather some details that are irrelevant when developing a banking application. Hence, you have to choose \n",
    "only valuable information like name, address, tax info, etc. The process of fetching, removing, and selecting the \n",
    "customer information from a pool of data is called Abstraction.\n",
    "\n",
    "The information, once extracted, can be utilized for various applications. For example, you can use the same data\n",
    "for job portal applications, hospital applications, a Government database, etc. with slight or no amendment. \n",
    "Therefore, it works as your Master Data.\"\"\"\n",
    "\n",
    "\"\"\"an example of mobile devices to clarify the Abstraction vs Encapsulation in Java. Using smartphones, \n",
    "you can perform tasks like capturing photos, recording audio/video, listening to music, accessing the web, etc. \n",
    "These features are common in all smartphones. You don’t have to understand the internal working of these features. \n",
    "For example, you don’t need to know how your camera recognizes a human face in an image or how it calculates gamma \n",
    "correction. You simply need to learn the software interface. So, it is a real-world example of encapsulation.\"\"\"\n"
   ]
  },
  {
   "cell_type": "code",
   "execution_count": 4,
   "id": "8ed34cb0-09be-4ed4-8b0f-d13c4e1fb21a",
   "metadata": {},
   "outputs": [
    {
     "name": "stdout",
     "output_type": "stream",
     "text": [
      "area:  200\n"
     ]
    }
   ],
   "source": [
    "#Ques 3 : Answer\n",
    "\n",
    "\"\"\"  The 'abc' module in Python library provides the infrastructure for defining custom abstract base classes.\n",
    "\n",
    "'abc' works by marking methods of the base class as abstract. This is done by @absttractmethod decorator. \n",
    "A concrete class which is a sub class of such abstract base class then implements the abstract base by overriding \n",
    "its abstract methods.\"\"\"\n",
    "\n",
    "\"\"\"The abc module defines ABCMeta class which is a metaclass for defining abstract base class. \n",
    "Following example defines Shape class as an abstract base class using ABCMeta. \n",
    "The shape class has area() method decorated by abstractmethod.\n",
    "\n",
    "A Rectangle class now uses above Shape class as its parent and implementing the abstract area() method. \n",
    "Since it is a concrete class, it can be instantiated and imlemented area() method can be called.\"\"\"\n",
    "\n",
    "import abc\n",
    "class Shape(metaclass=abc.ABCMeta):\n",
    "    @abc.abstractmethod\n",
    "    def area(self):\n",
    "        pass\n",
    "class Rectangle(Shape):\n",
    "    def __init__(self, x,y):\n",
    "        self.l = x\n",
    "        self.b=y\n",
    "    def area(self):\n",
    "        return self.l*self.b\n",
    "r = Rectangle(10,20)\n",
    "print ('area: ',r.area())"
   ]
  },
  {
   "cell_type": "code",
   "execution_count": 5,
   "id": "c664a3a5-c549-4c26-ac31-49e2ea1e20fb",
   "metadata": {},
   "outputs": [
    {
     "data": {
      "text/plain": [
       "'Data Abstraction in Python can be achieved through creating abstract classes and inheriting them later. \\nBefore discussing what abstract classes are, let us have a brief introduction of inheritance.\\n\\nInheritance in OOP is a way through which one class inherits the attributes and methods of another class. '"
      ]
     },
     "execution_count": 5,
     "metadata": {},
     "output_type": "execute_result"
    }
   ],
   "source": [
    "#Ques 4 : Answer\n",
    "\n",
    "\"\"\"Data Abstraction in Python can be achieved through creating abstract classes and inheriting them later. \n",
    "Before discussing what abstract classes are, let us have a brief introduction of inheritance.\n",
    "\n",
    "Inheritance in OOP is a way through which one class inherits the attributes and methods of another class. \"\"\""
   ]
  },
  {
   "cell_type": "code",
   "execution_count": null,
   "id": "63e9a08f-2a11-400d-a56d-706f8462e28f",
   "metadata": {},
   "outputs": [],
   "source": [
    "#Ques 5 : Answer\n",
    "\n",
    "\"\"\"Abstract classes are not complete, as they may have some methods that are not defined. \n",
    "So we cannot create an instance or object of an abstract class in Python.\"\"\""
   ]
  }
 ],
 "metadata": {
  "kernelspec": {
   "display_name": "Python 3 (ipykernel)",
   "language": "python",
   "name": "python3"
  },
  "language_info": {
   "codemirror_mode": {
    "name": "ipython",
    "version": 3
   },
   "file_extension": ".py",
   "mimetype": "text/x-python",
   "name": "python",
   "nbconvert_exporter": "python",
   "pygments_lexer": "ipython3",
   "version": "3.10.8"
  }
 },
 "nbformat": 4,
 "nbformat_minor": 5
}
