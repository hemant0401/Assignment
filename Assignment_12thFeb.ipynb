{
 "cells": [
  {
   "cell_type": "code",
   "execution_count": 1,
   "id": "16a19303-3b7b-44f2-a231-0aa2c678f35a",
   "metadata": {},
   "outputs": [
    {
     "data": {
      "text/plain": [
       "'An Error can be thought of as an explosion that happens when there is no defense or checks against a particular failure condition.\\tAn Exception can be thought of as a last line of defense to prevent errors.'"
      ]
     },
     "execution_count": 1,
     "metadata": {},
     "output_type": "execute_result"
    }
   ],
   "source": [
    "#Ques 1 : What is an exception in python?Write the difference between exceptions and syntax error\n",
    "\n",
    "#Answer\n",
    "\n",
    "\"\"\"An exception is an event, which occurs during the execution of a program that disrupts the normal flow\n",
    "of the program's instructions. In general, when a Python script encounters a situation that it cannot \n",
    "cope with, it raises an exception. An exception is a Python object that represents an error.\"\"\"\n",
    "\n",
    "\"\"\"An error cannot be handled at runtime.\tAn exception can be handled at runtime\"\"\"\n",
    "\"\"\"An error can occur both at compile time and during runtime.\tAlthough all the Exceptions occur at runtime. But checked Exceptions can be detected at compile time.\"\"\"\n",
    "\"\"\"An error has the capacity to terminate your program and maybe your system as well.\tAn exception has the capacity to distract the normal flow of the program and change its direction to somewhere else when an exceptional case has occurred.\"\"\"\n",
    "\"\"\"An Error is such an event that no one can control or guess when it is going to happen.\tAn Exception can be guessed, handled, and utilized in order to change the original flow of the program.\"\"\"\n",
    "\"\"\"An Error can be thought of as an explosion that happens when there is no defense or checks against a particular failure condition.\tAn Exception can be thought of as a last line of defense to prevent errors.\"\"\""
   ]
  },
  {
   "cell_type": "code",
   "execution_count": 2,
   "id": "385baba9-0d9c-4737-b024-3dcf040ae70c",
   "metadata": {},
   "outputs": [
    {
     "ename": "ZeroDivisionError",
     "evalue": "division by zero",
     "output_type": "error",
     "traceback": [
      "\u001b[0;31m---------------------------------------------------------------------------\u001b[0m",
      "\u001b[0;31mZeroDivisionError\u001b[0m                         Traceback (most recent call last)",
      "Cell \u001b[0;32mIn[2], line 5\u001b[0m\n\u001b[1;32m      1\u001b[0m \u001b[38;5;66;03m#Ques 2 : What happens when an exception is not handled? Explain with an example\u001b[39;00m\n\u001b[1;32m      3\u001b[0m \u001b[38;5;124;03m\"\"\"Answer : during the execution of a program that disrupts the normal flow of the program's instructions. In general, when a Python script encounters a situation that it cannot cope with, it raises an exception\"\"\"\u001b[39;00m\n\u001b[0;32m----> 5\u001b[0m a\u001b[38;5;241m=\u001b[39m\u001b[38;5;241;43m9\u001b[39;49m\u001b[38;5;241;43m/\u001b[39;49m\u001b[38;5;241;43m0\u001b[39;49m\n\u001b[1;32m      6\u001b[0m \u001b[38;5;28mprint\u001b[39m(a)\n",
      "\u001b[0;31mZeroDivisionError\u001b[0m: division by zero"
     ]
    }
   ],
   "source": [
    "#Ques 2 : What happens when an exception is not handled? Explain with an example\n",
    "\n",
    "\"\"\"Answer : during the execution of a program that disrupts the normal flow of the program's instructions. In general, when a Python script encounters a situation that it cannot cope with, it raises an exception\"\"\"\n",
    "\n",
    "a=9/0\n",
    "print(a)"
   ]
  },
  {
   "cell_type": "code",
   "execution_count": 5,
   "id": "ec8db177-5e42-41a5-b10e-bd0b5f86e78a",
   "metadata": {},
   "outputs": [
    {
     "name": "stdout",
     "output_type": "stream",
     "text": [
      "Exception Handle  division by zero\n"
     ]
    }
   ],
   "source": [
    "#Ques 3 : Which Python statements are used to catch and handle exceptions? Explain with an example\n",
    "\n",
    "\"\"\"The try and except block in Python is used to catch and handle exceptions. Python executes code following the try statement as a “normal” part of the program. The code that follows the except statement is the program’s response to any exceptions in the preceding try clause.\"\"\"\n",
    "\n",
    "try:\n",
    "    a=9/0\n",
    "    print(\"hello\")\n",
    "except Exception as e :\n",
    "    print(\"Exception Handle \" , e)"
   ]
  },
  {
   "cell_type": "code",
   "execution_count": 6,
   "id": "228ca5a4-5654-45f8-ad25-3b4e88471529",
   "metadata": {},
   "outputs": [
    {
     "name": "stdout",
     "output_type": "stream",
     "text": [
      "Hello\n",
      "Nothing went wrong\n"
     ]
    }
   ],
   "source": [
    "#Ques 4 : Explain with an example\n",
    "# try and else\n",
    "\n",
    "\"\"\"Answer : We can use the else keyword to define a block of code to be executed if no errors were raised:\"\"\"\n",
    "\n",
    "try:\n",
    "    print(\"Hello\")\n",
    "except:\n",
    "    print(\"Something went wrong\")\n",
    "else:\n",
    "    print(\"Nothing went wrong\")"
   ]
  },
  {
   "cell_type": "code",
   "execution_count": 7,
   "id": "6bd5d568-b2ef-4588-8fa4-1fcd84a5af3c",
   "metadata": {},
   "outputs": [
    {
     "name": "stdout",
     "output_type": "stream",
     "text": [
      "Something went wrong\n",
      "The try...except block is finished\n"
     ]
    }
   ],
   "source": [
    "#Finally\n",
    "\n",
    "\"\"\"The finally keyword is used in try...except blocks. It defines a block of code to run when the try...except...else block is final.\n",
    "\n",
    "The finally block will be executed no matter if the try block raises an error or not.\n",
    "\n",
    "This can be useful to close objects and clean up resources.\"\"\"\n",
    "\n",
    "try:\n",
    "    x > 3\n",
    "except:\n",
    "    print(\"Something went wrong\")\n",
    "else:\n",
    "    print(\"Nothing went wrong\")\n",
    "finally:\n",
    "    print(\"The try...except block is finished\")"
   ]
  },
  {
   "cell_type": "code",
   "execution_count": 8,
   "id": "5f7310a6-11b7-4e3c-b6dd-cad45dd636c0",
   "metadata": {},
   "outputs": [
    {
     "ename": "Exception",
     "evalue": "Sorry, no numbers below zero",
     "output_type": "error",
     "traceback": [
      "\u001b[0;31m---------------------------------------------------------------------------\u001b[0m",
      "\u001b[0;31mException\u001b[0m                                 Traceback (most recent call last)",
      "Cell \u001b[0;32mIn[8], line 10\u001b[0m\n\u001b[1;32m      7\u001b[0m x \u001b[38;5;241m=\u001b[39m \u001b[38;5;241m-\u001b[39m\u001b[38;5;241m1\u001b[39m\n\u001b[1;32m      9\u001b[0m \u001b[38;5;28;01mif\u001b[39;00m x \u001b[38;5;241m<\u001b[39m \u001b[38;5;241m0\u001b[39m:\n\u001b[0;32m---> 10\u001b[0m     \u001b[38;5;28;01mraise\u001b[39;00m \u001b[38;5;167;01mException\u001b[39;00m(\u001b[38;5;124m\"\u001b[39m\u001b[38;5;124mSorry, no numbers below zero\u001b[39m\u001b[38;5;124m\"\u001b[39m)\n",
      "\u001b[0;31mException\u001b[0m: Sorry, no numbers below zero"
     ]
    }
   ],
   "source": [
    "#raise\n",
    "\n",
    "\"\"\"The raise keyword is used to raise an exception.\n",
    "\n",
    "You can define what kind of error to raise, and the text to print to the user.\"\"\"\n",
    "\n",
    "x = -1\n",
    "\n",
    "if x < 0:\n",
    "    raise Exception(\"Sorry, no numbers below zero\")"
   ]
  },
  {
   "cell_type": "code",
   "execution_count": 9,
   "id": "fa482443-e053-4073-a53b-67530b21ce12",
   "metadata": {},
   "outputs": [
    {
     "ename": "Exception",
     "evalue": "Sorry, no numbers below zero",
     "output_type": "error",
     "traceback": [
      "\u001b[0;31m---------------------------------------------------------------------------\u001b[0m",
      "\u001b[0;31mException\u001b[0m                                 Traceback (most recent call last)",
      "Cell \u001b[0;32mIn[9], line 8\u001b[0m\n\u001b[1;32m      5\u001b[0m x \u001b[38;5;241m=\u001b[39m \u001b[38;5;241m-\u001b[39m\u001b[38;5;241m1\u001b[39m\n\u001b[1;32m      7\u001b[0m \u001b[38;5;28;01mif\u001b[39;00m x \u001b[38;5;241m<\u001b[39m \u001b[38;5;241m0\u001b[39m:\n\u001b[0;32m----> 8\u001b[0m     \u001b[38;5;28;01mraise\u001b[39;00m \u001b[38;5;167;01mException\u001b[39;00m(\u001b[38;5;124m\"\u001b[39m\u001b[38;5;124mSorry, no numbers below zero\u001b[39m\u001b[38;5;124m\"\u001b[39m)\n",
      "\u001b[0;31mException\u001b[0m: Sorry, no numbers below zero"
     ]
    }
   ],
   "source": [
    "#Ques 5: What are Custom Exceptions in python? Why do we need Custom Exceptions? Explain with an example\n",
    "\n",
    "\"\"\"Sometimes based on project requirement, a programmer needs to create his own exceptions and raise explicitly for corresponding scenarios. Such types of exceptions are called customized Exceptions \"\"\"\n",
    "\n",
    "x = -1\n",
    "\n",
    "if x < 0:\n",
    "    raise Exception(\"Sorry, no numbers below zero\")"
   ]
  },
  {
   "cell_type": "code",
   "execution_count": 10,
   "id": "b33d2163-8727-49df-962b-286ac600186e",
   "metadata": {},
   "outputs": [],
   "source": [
    "#Ques 6 : Create custom exception class. Use this class to handle an exception.\n",
    "\n",
    "class Validateage(Exception):\n",
    "    def __init__(self,msg):\n",
    "        self.msg=msg\n",
    "        "
   ]
  },
  {
   "cell_type": "code",
   "execution_count": 11,
   "id": "58d7ee2b-a3d2-430c-a22c-75c2f28c7ed1",
   "metadata": {},
   "outputs": [],
   "source": [
    "def AgeValidation(age):\n",
    "    if age < 0:\n",
    "        raise Validateage(\"Age is negative\")\n",
    "    else:\n",
    "        print(\"valid Age\")"
   ]
  },
  {
   "cell_type": "code",
   "execution_count": 12,
   "id": "90151c99-8fb5-49f9-a0ae-b31524e26a3a",
   "metadata": {},
   "outputs": [
    {
     "name": "stdin",
     "output_type": "stream",
     "text": [
      "Enter your Age  -98\n"
     ]
    },
    {
     "ename": "Validateage",
     "evalue": "Age is negative",
     "output_type": "error",
     "traceback": [
      "\u001b[0;31m---------------------------------------------------------------------------\u001b[0m",
      "\u001b[0;31mValidateage\u001b[0m                               Traceback (most recent call last)",
      "Cell \u001b[0;32mIn[12], line 2\u001b[0m\n\u001b[1;32m      1\u001b[0m age \u001b[38;5;241m=\u001b[39m \u001b[38;5;28mint\u001b[39m(\u001b[38;5;28minput\u001b[39m(\u001b[38;5;124m\"\u001b[39m\u001b[38;5;124mEnter your Age \u001b[39m\u001b[38;5;124m\"\u001b[39m))\n\u001b[0;32m----> 2\u001b[0m \u001b[43mAgeValidation\u001b[49m\u001b[43m(\u001b[49m\u001b[43mage\u001b[49m\u001b[43m)\u001b[49m\n",
      "Cell \u001b[0;32mIn[11], line 3\u001b[0m, in \u001b[0;36mAgeValidation\u001b[0;34m(age)\u001b[0m\n\u001b[1;32m      1\u001b[0m \u001b[38;5;28;01mdef\u001b[39;00m \u001b[38;5;21mAgeValidation\u001b[39m(age):\n\u001b[1;32m      2\u001b[0m     \u001b[38;5;28;01mif\u001b[39;00m age \u001b[38;5;241m<\u001b[39m \u001b[38;5;241m0\u001b[39m:\n\u001b[0;32m----> 3\u001b[0m         \u001b[38;5;28;01mraise\u001b[39;00m Validateage(\u001b[38;5;124m\"\u001b[39m\u001b[38;5;124mAge is negative\u001b[39m\u001b[38;5;124m\"\u001b[39m)\n\u001b[1;32m      4\u001b[0m     \u001b[38;5;28;01melse\u001b[39;00m:\n\u001b[1;32m      5\u001b[0m         \u001b[38;5;28mprint\u001b[39m(\u001b[38;5;124m\"\u001b[39m\u001b[38;5;124mvalid Age\u001b[39m\u001b[38;5;124m\"\u001b[39m)\n",
      "\u001b[0;31mValidateage\u001b[0m: Age is negative"
     ]
    }
   ],
   "source": [
    "age = int(input(\"Enter your Age \"))\n",
    "AgeValidation(age)"
   ]
  },
  {
   "cell_type": "code",
   "execution_count": null,
   "id": "a987ed0b-7975-4aa4-bfee-27da4155d02e",
   "metadata": {},
   "outputs": [],
   "source": []
  }
 ],
 "metadata": {
  "kernelspec": {
   "display_name": "Python 3 (ipykernel)",
   "language": "python",
   "name": "python3"
  },
  "language_info": {
   "codemirror_mode": {
    "name": "ipython",
    "version": 3
   },
   "file_extension": ".py",
   "mimetype": "text/x-python",
   "name": "python",
   "nbconvert_exporter": "python",
   "pygments_lexer": "ipython3",
   "version": "3.10.8"
  }
 },
 "nbformat": 4,
 "nbformat_minor": 5
}
