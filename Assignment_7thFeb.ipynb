{
 "cells": [
  {
   "cell_type": "code",
   "execution_count": 1,
   "id": "cf969baf-0f02-4977-bb07-8184343909c0",
   "metadata": {},
   "outputs": [
    {
     "name": "stdin",
     "output_type": "stream",
     "text": [
      "Enter New Password  HemAnt@#$123\n"
     ]
    },
    {
     "name": "stdout",
     "output_type": "stream",
     "text": [
      "Valid Password\n"
     ]
    }
   ],
   "source": [
    "#Ques 1 : Answer\n",
    "\n",
    "password = input(\"Enter New Password \")\n",
    "\n",
    "def passcheck(pass1):\n",
    "\tcount_upper=0\n",
    "\tcount_num=0\n",
    "\tspec_char=0\n",
    "\tcount_lower=0\n",
    "\tif len(pass1)>=10 :\n",
    "\t\tfor i in pass1:\n",
    "\t\t\tif i.isalpha() :\n",
    "\t\t\t\tif i.isupper():\n",
    "\t\t\t\t\tcount_upper=count_upper+1\n",
    "\t\t\t\tif i.islower():\n",
    "\t\t\t\t\tcount_lower=count_lower+1\n",
    "\t\t\telif i.isdecimal():\n",
    "\t\t\t\tcount_num=count_num+1\t\t\t\n",
    "\t\t\telse:\n",
    "\t\t\t\tspec_char=spec_char+1\n",
    "\telse:\n",
    "\t\treturn \"Invalid Password\"\n",
    "\tif count_upper<2 and count_lower<2 and count_num<1 and spec_char<3:\n",
    "\t\treturn \"Invalid Password\"\n",
    "\telse:\n",
    "\t\treturn \"Valid Password\"\n",
    "\n",
    "s=passcheck(password)\n",
    "print(s)"
   ]
  },
  {
   "cell_type": "code",
   "execution_count": 2,
   "id": "6f6100ad-427d-45f0-b8aa-c4dba9f700b1",
   "metadata": {},
   "outputs": [
    {
     "name": "stdout",
     "output_type": "stream",
     "text": [
      "True\n"
     ]
    }
   ],
   "source": [
    "#Ques 2 : Answer\n",
    "\n",
    "#Check if the string starts with a particular letter\n",
    "\n",
    "x = lambda a: True if a[0]=='s' else False\n",
    "print(x(\"shashi\"))"
   ]
  },
  {
   "cell_type": "code",
   "execution_count": 3,
   "id": "35c2f101-5b4f-42c3-a727-d896eaa2da84",
   "metadata": {},
   "outputs": [
    {
     "name": "stdin",
     "output_type": "stream",
     "text": [
      "Enter String  123\n"
     ]
    },
    {
     "name": "stdout",
     "output_type": "stream",
     "text": [
      "True\n"
     ]
    }
   ],
   "source": [
    "#Check if the string is numeric\n",
    "\n",
    "s=input(\"Enter String \")\n",
    "b=lambda s : s.isdecimal()\n",
    "print(b(s))"
   ]
  },
  {
   "cell_type": "code",
   "execution_count": 4,
   "id": "fe008e55-7ca5-4bd1-9577-e38991e212e8",
   "metadata": {},
   "outputs": [
    {
     "name": "stdout",
     "output_type": "stream",
     "text": [
      "[('orange', 80), ('mango', 99), ('grapes', 1000)]\n",
      "[('grapes', 1000), ('mango', 99), ('orange', 80)]\n"
     ]
    }
   ],
   "source": [
    "#Sort a list of tuples having fruit names and their quantity. [(\"mango\",99),(\"orange\",80), (\"grapes\", 1000)]\n",
    "\n",
    "list1=[(\"mango\",99),(\"orange\",80),(\"grapes\",1000)]\n",
    "list1.sort(key=lambda i: i[1])\n",
    "print(list1)\n",
    "list1.sort(key=lambda i: i[0])\n",
    "print(list1)"
   ]
  },
  {
   "cell_type": "code",
   "execution_count": 5,
   "id": "924e35cb-ddf8-465f-9000-00acab23f4fe",
   "metadata": {},
   "outputs": [
    {
     "name": "stdout",
     "output_type": "stream",
     "text": [
      "[1, 4, 9, 16, 25, 36, 49, 64, 81, 100]\n"
     ]
    }
   ],
   "source": [
    "#Find the squares of numbers from 1 to 10\n",
    "\n",
    "list1= range(1,11)\n",
    "list2=list(map(lambda i : i**2,list1))\n",
    "print(list2)"
   ]
  },
  {
   "cell_type": "code",
   "execution_count": 6,
   "id": "140dbd5a-a19e-472d-80a0-9a2b38241a82",
   "metadata": {},
   "outputs": [
    {
     "name": "stdout",
     "output_type": "stream",
     "text": [
      "[1, 8, 27, 64, 125, 216, 343, 512, 729, 1000]\n"
     ]
    }
   ],
   "source": [
    "#Find the cube root of numbers from 1 to 10\n",
    "\n",
    "list1= range(1,11)\n",
    "list2=list(map(lambda i : i**3,list1))\n",
    "print(list2)"
   ]
  },
  {
   "cell_type": "code",
   "execution_count": 7,
   "id": "b1e7b94d-6527-4c32-a3a2-16aa4fc40dda",
   "metadata": {},
   "outputs": [
    {
     "name": "stdin",
     "output_type": "stream",
     "text": [
      "Enter Number  4\n"
     ]
    },
    {
     "name": "stdout",
     "output_type": "stream",
     "text": [
      "Even\n"
     ]
    }
   ],
   "source": [
    "#Check if a given number is even\n",
    "\n",
    "a= lambda d : \"Even\" if d%2==0 else \"Odd\"\n",
    "b=int(input(\"Enter Number \"))\n",
    "print(a(b))"
   ]
  },
  {
   "cell_type": "code",
   "execution_count": 8,
   "id": "f578fde7-4681-4edf-a424-c3d7909ac8dc",
   "metadata": {},
   "outputs": [
    {
     "name": "stdout",
     "output_type": "stream",
     "text": [
      "[1, 3, 5, 7, 9]\n"
     ]
    }
   ],
   "source": [
    "#Filter odd numbers from the given list. [1,2,3,4,5,6,7,8,9,10]\n",
    "\n",
    "list1= range(1,11)\n",
    "list2=list(filter(lambda i : i%2!=0 ,list1))\n",
    "print(list2)"
   ]
  },
  {
   "cell_type": "code",
   "execution_count": 9,
   "id": "5e4a789b-7b13-479e-a218-c08983e5b382",
   "metadata": {},
   "outputs": [
    {
     "name": "stdout",
     "output_type": "stream",
     "text": [
      "[1, 2, 3, 4, 5, 6, 0]\n",
      "[-1, -2, -3, -4, -5]\n"
     ]
    }
   ],
   "source": [
    "#Sort a list of integers into positive and negative integers lists. [1,2,3,4,5,6,-1,-2,-3,-4,-5,0]\n",
    "\n",
    "list1=[1,2,3,4,5,6,-1,-2,-3,-4,-5,0]\n",
    "list2=[i for i in list1 if i>=0]\n",
    "print(list2)\n",
    "list3=[i for i in list1 if i<0]\n",
    "print(list3)"
   ]
  },
  {
   "cell_type": "code",
   "execution_count": null,
   "id": "383ec556-7add-4ea0-a22d-1160d7b40651",
   "metadata": {},
   "outputs": [],
   "source": []
  }
 ],
 "metadata": {
  "kernelspec": {
   "display_name": "Python 3 (ipykernel)",
   "language": "python",
   "name": "python3"
  },
  "language_info": {
   "codemirror_mode": {
    "name": "ipython",
    "version": 3
   },
   "file_extension": ".py",
   "mimetype": "text/x-python",
   "name": "python",
   "nbconvert_exporter": "python",
   "pygments_lexer": "ipython3",
   "version": "3.10.8"
  }
 },
 "nbformat": 4,
 "nbformat_minor": 5
}
