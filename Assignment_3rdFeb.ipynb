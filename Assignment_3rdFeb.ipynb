{
 "cells": [
  {
   "cell_type": "code",
   "execution_count": 5,
   "id": "e15a9cf5-8e5c-48ea-8ceb-772310eb67ec",
   "metadata": {},
   "outputs": [],
   "source": [
    "#Que 1 : Answer\n",
    "\n",
    "# keyword is used to create a function is def\n",
    "\n",
    "def OddNumber(list1):\n",
    "    list2=[]\n",
    "    for i in list1:\n",
    "        if (i%2)!=0 :\n",
    "            list2.append(i)\n",
    "    print(list2)\n",
    "    "
   ]
  },
  {
   "cell_type": "code",
   "execution_count": 2,
   "id": "70d043a9-b76b-4271-a489-f33447398c7d",
   "metadata": {},
   "outputs": [],
   "source": [
    "list1=range(1,26)"
   ]
  },
  {
   "cell_type": "code",
   "execution_count": 6,
   "id": "1f2bb589-755f-4d7d-8f54-5b7239d28c12",
   "metadata": {},
   "outputs": [
    {
     "name": "stdout",
     "output_type": "stream",
     "text": [
      "[1, 3, 5, 7, 9, 11, 13, 15, 17, 19, 21, 23, 25]\n"
     ]
    }
   ],
   "source": [
    "OddNumber(list1)"
   ]
  },
  {
   "cell_type": "code",
   "execution_count": 10,
   "id": "2905bb85-f067-4e6a-a23e-66795a938ba3",
   "metadata": {},
   "outputs": [],
   "source": [
    "# Que 2 : Answer\n",
    "\n",
    "# *args is used to pass multiple parameter in one , if parameter list is more to pass then we can use *arg\n",
    "# **kwargs is used to pass multiple parameter in key:value form(means multiple Dictonary)\n",
    "\n",
    "#example for *args\n",
    "def DisplayParam(*args):\n",
    "    return args\n"
   ]
  },
  {
   "cell_type": "code",
   "execution_count": 11,
   "id": "180b46ca-a98a-426a-a46b-0e1aab5cd399",
   "metadata": {},
   "outputs": [
    {
     "data": {
      "text/plain": [
       "(12, 34.45, 'hello', [1, 2, 3, 4, 5])"
      ]
     },
     "execution_count": 11,
     "metadata": {},
     "output_type": "execute_result"
    }
   ],
   "source": [
    "DisplayParam(12,34.45,\"hello\",[1,2,3,4,5])"
   ]
  },
  {
   "cell_type": "code",
   "execution_count": 16,
   "id": "2d82cfa8-5b3c-4dbe-a596-6a02ed9ce562",
   "metadata": {},
   "outputs": [],
   "source": [
    "#example for *kwargs\n",
    "\n",
    "def DisplayKeyParam(**kwargs):\n",
    "    return kwargs\n"
   ]
  },
  {
   "cell_type": "code",
   "execution_count": 18,
   "id": "cd4dbc4f-4e07-421d-9723-df7bfe1e2886",
   "metadata": {},
   "outputs": [
    {
     "data": {
      "text/plain": [
       "{'name': 'hemant', 'surname': 'mishra', 'batch': 'Data Scientist'}"
      ]
     },
     "execution_count": 18,
     "metadata": {},
     "output_type": "execute_result"
    }
   ],
   "source": [
    "DisplayKeyParam(name=\"hemant\",surname=\"mishra\",batch=\"Data Scientist\")"
   ]
  },
  {
   "cell_type": "code",
   "execution_count": 43,
   "id": "012e0d74-ca89-47f5-a878-652d70ff87b6",
   "metadata": {},
   "outputs": [],
   "source": [
    "#Que : 3 : Answer\n",
    "\n",
    "#Iterators are methods that iterate collections like lists, tuples, etc. Using an iterator method, \n",
    "#we can loop through an object and return its elements.\n",
    "#  iter() method used to initialise the iterator object and the method used for iteration.\n",
    "\n",
    "list3= [2, 4, 6, 8, 10, 12, 14, 16, 18, 20]\n",
    "list4=[]\n",
    "count=0\n",
    "iterator = iter(list3)\n",
    "for i in iterator:\n",
    "    if count<5:\n",
    "        list4.append(next(iterator))\n",
    "    count=count+1\n",
    "\n",
    "\n",
    "\n",
    "\n"
   ]
  },
  {
   "cell_type": "code",
   "execution_count": 45,
   "id": "ea71d7e4-bb4b-4391-8690-9d844d9d30d2",
   "metadata": {},
   "outputs": [
    {
     "name": "stdout",
     "output_type": "stream",
     "text": [
      "[4, 8, 12, 16, 20]\n"
     ]
    }
   ],
   "source": [
    "print(list4)"
   ]
  },
  {
   "cell_type": "code",
   "execution_count": null,
   "id": "02256301-88ae-46ab-871b-b9c8600fe01f",
   "metadata": {},
   "outputs": [],
   "source": []
  },
  {
   "cell_type": "code",
   "execution_count": 50,
   "id": "13611b9d-a866-4777-bc54-eb43297751b5",
   "metadata": {},
   "outputs": [],
   "source": [
    "#Que 4 : Answer\n",
    "\n",
    "#Generator function that is memory efficient and can be used like an iterator object.\n",
    "#Yield keyword is used to create a generator function\n",
    "\n",
    "#Example\n",
    "\n",
    "#Fibonacci Series\n",
    "\n",
    "def Gen_Fab(num):\n",
    "    a=0\n",
    "    b=1\n",
    "    for i in range(num):\n",
    "        yield a\n",
    "        a,b = b , a+b\n",
    "\n",
    "\n",
    "        "
   ]
  },
  {
   "cell_type": "code",
   "execution_count": 51,
   "id": "2d9a8dd3-6e6a-4d29-9aef-1b4e546323c8",
   "metadata": {},
   "outputs": [
    {
     "name": "stdout",
     "output_type": "stream",
     "text": [
      "0\n",
      "1\n",
      "1\n",
      "2\n",
      "3\n",
      "5\n"
     ]
    }
   ],
   "source": [
    "for j in Gen_Fab(6):\n",
    "    print(j)\n"
   ]
  },
  {
   "cell_type": "code",
   "execution_count": 2,
   "id": "0ece0acc-9806-48f0-8f0a-b3db35349e0b",
   "metadata": {},
   "outputs": [],
   "source": [
    "#Que 5: Answer\n",
    "\n",
    "def prime_number(n):\n",
    "\ti = 2\t\n",
    "\tfl=True\n",
    "\twhile i<n:\n",
    "\t\tj = 2\n",
    "\t\twhile j<i :\n",
    "\t\t\tfl=True\n",
    "\t\t\tif (i%j)==0 :\n",
    "\t\t\t\tfl=True\n",
    "\t\t\t\tbreak\n",
    "\t\t\telse :\n",
    "\t\t\t\tfl=False\n",
    "\t\t\tj=j+1\n",
    "\t\tif fl == False :\n",
    "\t\t\tyield i\n",
    "\t\ti=i+1\n",
    "       "
   ]
  },
  {
   "cell_type": "code",
   "execution_count": 3,
   "id": "89cbc05d-61c9-43a2-b7e2-b40240605df5",
   "metadata": {},
   "outputs": [],
   "source": [
    "c = prime_number(1000)"
   ]
  },
  {
   "cell_type": "code",
   "execution_count": 5,
   "id": "a03c022c-818f-43be-bda4-970c2bffa240",
   "metadata": {},
   "outputs": [
    {
     "name": "stdout",
     "output_type": "stream",
     "text": [
      "3\n",
      "5\n",
      "7\n",
      "11\n",
      "13\n",
      "17\n",
      "19\n",
      "23\n",
      "29\n",
      "31\n",
      "37\n",
      "41\n",
      "43\n",
      "47\n",
      "53\n",
      "59\n",
      "61\n",
      "67\n",
      "71\n",
      "73\n"
     ]
    }
   ],
   "source": [
    "\n",
    "for k in range(20):\n",
    "\tprint(next(c))"
   ]
  },
  {
   "cell_type": "code",
   "execution_count": 8,
   "id": "7fd9856c-e1bb-4c0e-b725-0baa4e51facd",
   "metadata": {},
   "outputs": [
    {
     "name": "stdout",
     "output_type": "stream",
     "text": [
      "0\n",
      "1\n",
      "1\n",
      "2\n",
      "3\n",
      "5\n",
      "8\n",
      "13\n",
      "21\n",
      "34\n"
     ]
    }
   ],
   "source": [
    "#Que 6: Answer\n",
    "\n",
    "\n",
    "a=0\n",
    "b=1\n",
    "count=1\n",
    "while count<=10:\n",
    "    print(a)\n",
    "    a,b = b , a+b\n",
    "    count=count+1\n",
    "\n",
    "\n",
    "\n"
   ]
  },
  {
   "cell_type": "code",
   "execution_count": 9,
   "id": "3441b90b-d00b-44b3-9ede-5d1914cd6e8e",
   "metadata": {},
   "outputs": [
    {
     "name": "stdout",
     "output_type": "stream",
     "text": [
      "['p', 'w', 's', 'k', 'i', 'l', 'l', 's']\n"
     ]
    }
   ],
   "source": [
    "#ques 7 : Answer\n",
    "\n",
    "str_name=(\"pwskills\")\n",
    "list1=[i for i in str_name]\n",
    "print(list1)"
   ]
  },
  {
   "cell_type": "code",
   "execution_count": 10,
   "id": "4c608d28-4c7b-4bc3-8d97-23c171470976",
   "metadata": {},
   "outputs": [
    {
     "name": "stdin",
     "output_type": "stream",
     "text": [
      "Enter Word to check Pallindrome hemeh\n"
     ]
    },
    {
     "name": "stdout",
     "output_type": "stream",
     "text": [
      "hemeh  is Pallindrome\n"
     ]
    }
   ],
   "source": [
    "#Ques 8 : Answer\n",
    "\n",
    "str_palidrome=input(\"Enter Word to check Pallindrome\")\n",
    "count=0\n",
    "length=len(str_palidrome)\n",
    "fl1=False\n",
    "while count<length:\n",
    "\tif str_palidrome[count]!=str_palidrome[length-count-1]:\n",
    "\t\tfl1=True\n",
    "\t\tbreak\n",
    "\tcount=count+1\n",
    "\n",
    "if fl1==False:\n",
    "\tprint(str_palidrome,\" is Pallindrome\")\n",
    "else:\n",
    "\tprint(str_palidrome,\" is not Pallindrome\")\n"
   ]
  },
  {
   "cell_type": "code",
   "execution_count": 11,
   "id": "5855e3fb-cf61-466a-a6db-2b585ac5d681",
   "metadata": {},
   "outputs": [
    {
     "name": "stdout",
     "output_type": "stream",
     "text": [
      "[1, 3, 5, 7, 9, 11, 13, 15, 17, 19, 21, 23, 25, 27, 29, 31, 33, 35, 37, 39, 41, 43, 45, 47, 49, 51, 53, 55, 57, 59, 61, 63, 65, 67, 69, 71, 73, 75, 77, 79, 81, 83, 85, 87, 89, 91, 93, 95, 97, 99]\n"
     ]
    }
   ],
   "source": [
    "#Que 9 : Answer\n",
    "\n",
    "list2=[i for i in range(101)]\n",
    "list3=[j for j in list2 if(j%2)!=0]\n",
    "print(list3)"
   ]
  },
  {
   "cell_type": "code",
   "execution_count": null,
   "id": "a52e2083-73ad-4858-aa8c-d9327fb80db8",
   "metadata": {},
   "outputs": [],
   "source": []
  }
 ],
 "metadata": {
  "kernelspec": {
   "display_name": "Python 3 (ipykernel)",
   "language": "python",
   "name": "python3"
  },
  "language_info": {
   "codemirror_mode": {
    "name": "ipython",
    "version": 3
   },
   "file_extension": ".py",
   "mimetype": "text/x-python",
   "name": "python",
   "nbconvert_exporter": "python",
   "pygments_lexer": "ipython3",
   "version": "3.10.8"
  }
 },
 "nbformat": 4,
 "nbformat_minor": 5
}
