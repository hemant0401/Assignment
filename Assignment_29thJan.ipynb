{
 "cells": [
  {
   "cell_type": "code",
   "execution_count": 1,
   "id": "47719c47-dcc1-4bb9-a64a-069120f0d7d3",
   "metadata": {},
   "outputs": [],
   "source": [
    "#Ques 1 : Answer\n",
    "\n",
    "#Guido van Rossum "
   ]
  },
  {
   "cell_type": "code",
   "execution_count": 2,
   "id": "1eab461b-5a76-492f-a1a6-5d083c925775",
   "metadata": {},
   "outputs": [],
   "source": [
    "#Ques 2 : Answer\n",
    "\n",
    "# It supports multiple programming paradigms, including structured (particularly procedural), object-oriented and functional programming."
   ]
  },
  {
   "cell_type": "code",
   "execution_count": 3,
   "id": "54d41ffc-5bf3-422f-a7d6-6edeb60d255e",
   "metadata": {},
   "outputs": [],
   "source": [
    "#Ques 3 : Answer\n",
    "\n",
    "#Yes, Python is a case-sensitive language, i.e., it treats uppercase and lowercase characters differently. This applies to identifiers too."
   ]
  },
  {
   "cell_type": "code",
   "execution_count": 4,
   "id": "b50789bb-5e09-4275-8b2f-4269e0d5ca53",
   "metadata": {},
   "outputs": [],
   "source": [
    "#Ques 4 : Answer\n",
    "\n",
    "#The extensions for Python files are - .py, .pyi, .pyc, .pyd, .pyo, .pyw, and .pyz."
   ]
  },
  {
   "cell_type": "code",
   "execution_count": 5,
   "id": "4e8ef230-f2e8-4eb5-aa1e-b8811a870f9a",
   "metadata": {},
   "outputs": [],
   "source": [
    "#Ques 5 : Answer\n",
    "\n",
    "#Python is an interpreted language, which means the source code of a Python program is converted into bytecode that is then executed by the Python virtual machine"
   ]
  },
  {
   "cell_type": "code",
   "execution_count": null,
   "id": "d1f06020-13ce-4a41-a9f5-c44a363a827a",
   "metadata": {},
   "outputs": [],
   "source": [
    "#Ques 6 : Answer\n",
    "\n",
    "#Indentation is used to define a block of code in python."
   ]
  },
  {
   "cell_type": "code",
   "execution_count": 6,
   "id": "833a0783-e710-470e-9dd3-f7c2c3c96729",
   "metadata": {},
   "outputs": [],
   "source": [
    "#Ques 7 : Answer\n",
    "\n",
    "#Hash character(#) is used to comment the line in the Python program"
   ]
  },
  {
   "cell_type": "code",
   "execution_count": 7,
   "id": "7b839fad-0d40-4191-8aa5-8b4f713afcaf",
   "metadata": {},
   "outputs": [],
   "source": [
    "#Ques 8 : Answer\n",
    "\n",
    "#python --version function which can help us to find the version of python"
   ]
  },
  {
   "cell_type": "code",
   "execution_count": null,
   "id": "732de49a-330d-4671-aa23-3857ee720840",
   "metadata": {},
   "outputs": [],
   "source": [
    "#Ques 9 : Answer\n",
    "\n",
    "#Python supports to make anonymous functions which are not bound to a name(@ runtime). It uses a construct called \"lambda\" "
   ]
  },
  {
   "cell_type": "code",
   "execution_count": 8,
   "id": "e0c02901-b539-4d9e-a625-37c15631d4fa",
   "metadata": {},
   "outputs": [],
   "source": [
    "#Ques 10 : Answer\n",
    "\n",
    "#pip stands for \"preferred installer program\""
   ]
  },
  {
   "cell_type": "code",
   "execution_count": 9,
   "id": "d41caf0f-3f67-456f-990c-d20c40653d6c",
   "metadata": {},
   "outputs": [],
   "source": [
    "#Ques 11 : Answer\n",
    "\n",
    "#print( ) function, type( ) function, input( ) function etc."
   ]
  },
  {
   "cell_type": "code",
   "execution_count": 10,
   "id": "13e49547-b0f7-47a3-a99a-e99b5f43160d",
   "metadata": {},
   "outputs": [],
   "source": [
    "#Ques 12 : Answer\n",
    "\n",
    "#An identifier can have a maximum length of 79 characters in Python"
   ]
  },
  {
   "cell_type": "code",
   "execution_count": null,
   "id": "f29ff7fb-c720-40fc-9976-2a6fcdda95d0",
   "metadata": {},
   "outputs": [],
   "source": [
    "#Ques 13 : Answer\n",
    "\n",
    "#Python is commonly used for developing websites and software, task automation, data analysis, and data visualization."
   ]
  },
  {
   "cell_type": "code",
   "execution_count": 11,
   "id": "879ad669-7528-42b2-97c8-68880a033e15",
   "metadata": {},
   "outputs": [],
   "source": [
    "#Ques 14 : Answer\n",
    "\n",
    "#Memory management in Python involves a private heap containing all Python objects and data structures. The management of this private heap is ensured internally by the Python memory manager."
   ]
  },
  {
   "cell_type": "code",
   "execution_count": 12,
   "id": "cc6a1e2c-3a45-4be4-90a4-37ba4a7b2dc0",
   "metadata": {},
   "outputs": [
    {
     "data": {
      "text/plain": [
       "\"Install python from python website from download folder\\nAfter this, install it on your PC. Look for the location where PYTHON has been installed on your PC using tge following command on your command prompt: cmd python.\\nThen go to advanced system settings and add new variable and name it as PYTHON_NAME and paste the copied path.\\nThen look for the path variable, select it's value and select edit\\nAdd a semicolon towards the end of the value if it's not present and then type %PYTHON_HOME%\""
      ]
     },
     "execution_count": 12,
     "metadata": {},
     "output_type": "execute_result"
    }
   ],
   "source": [
    "#Ques 15 : Answer\n",
    "\n",
    "\"\"\"Install python from python website from download folder\n",
    "After this, install it on your PC. Look for the location where PYTHON has been installed on your PC using tge following command on your command prompt: cmd python.\n",
    "Then go to advanced system settings and add new variable and name it as PYTHON_NAME and paste the copied path.\n",
    "Then look for the path variable, select it's value and select edit\n",
    "Add a semicolon towards the end of the value if it's not present and then type %PYTHON_HOME%\"\"\""
   ]
  },
  {
   "cell_type": "code",
   "execution_count": null,
   "id": "15c4db8c-db1b-412f-80ec-640aefa71f2a",
   "metadata": {},
   "outputs": [],
   "source": [
    "#Ques 16 : Answer\n",
    "\n",
    "#Indentation is mandatory in python to define the blocks of statements."
   ]
  }
 ],
 "metadata": {
  "kernelspec": {
   "display_name": "Python 3 (ipykernel)",
   "language": "python",
   "name": "python3"
  },
  "language_info": {
   "codemirror_mode": {
    "name": "ipython",
    "version": 3
   },
   "file_extension": ".py",
   "mimetype": "text/x-python",
   "name": "python",
   "nbconvert_exporter": "python",
   "pygments_lexer": "ipython3",
   "version": "3.10.8"
  }
 },
 "nbformat": 4,
 "nbformat_minor": 5
}
