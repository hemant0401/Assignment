{
 "cells": [
  {
   "cell_type": "code",
   "execution_count": 1,
   "id": "4f2f27eb-8687-4e51-8c40-eb080e023458",
   "metadata": {},
   "outputs": [],
   "source": [
    "#Ques 1 : Answer\n",
    "\n",
    "# Class : A class is a user-defined blueprint or prototype from which objects are created. Classes provide a means of bundling data and functionality together.\n",
    "# Object : An Object is an instance of a Class. A class is like a blueprint while an instance is a copy of the class with actual values.\n",
    "\n",
    "class test1:\n",
    "    def test1():\n",
    "        return \"this is class test1 and only class test1 object can access it\"\n",
    "    "
   ]
  },
  {
   "cell_type": "code",
   "execution_count": 2,
   "id": "0cbc0d28-1912-48bf-b72e-e2e078fe3fae",
   "metadata": {},
   "outputs": [],
   "source": [
    "test1_obj = test1"
   ]
  },
  {
   "cell_type": "code",
   "execution_count": 3,
   "id": "5d828c80-be61-4328-80f3-70796db10753",
   "metadata": {},
   "outputs": [
    {
     "data": {
      "text/plain": [
       "'this is class test1 and only class test1 object can access it'"
      ]
     },
     "execution_count": 3,
     "metadata": {},
     "output_type": "execute_result"
    }
   ],
   "source": [
    "test1.test1()"
   ]
  },
  {
   "cell_type": "code",
   "execution_count": 4,
   "id": "587a1729-3985-41dc-8fde-4746b56e4457",
   "metadata": {},
   "outputs": [],
   "source": [
    "#Ques 2 : Answer\n",
    "\n",
    "# The four pillars are Inheritance, Polymorphism, Encapsulation and Abstraction"
   ]
  },
  {
   "cell_type": "code",
   "execution_count": 5,
   "id": "d4abd274-bd11-45e9-b083-3f2b279b4e2f",
   "metadata": {},
   "outputs": [],
   "source": [
    "#Ques 3 : Answer\n",
    "\n",
    "#The __init__ method is the Python constructor in an object-oriented approach. The __init__ function is called every time an object is created from a class. The __init__ method lets the class initialize the object's attributes and serves no other purpose. It is only used within classes."
   ]
  },
  {
   "cell_type": "code",
   "execution_count": 10,
   "id": "4b057651-f4ab-48e3-958e-9c1aa77ca25b",
   "metadata": {},
   "outputs": [],
   "source": [
    "class person:\n",
    "    def __init__(self,name):\n",
    "        self.name = name\n",
    "    \n",
    "    def get_name(self):\n",
    "        return \"name of the person is \"+self.name\n",
    "    "
   ]
  },
  {
   "cell_type": "code",
   "execution_count": 11,
   "id": "771fb3a4-9ed1-4282-86df-04e15a8b7e5d",
   "metadata": {},
   "outputs": [],
   "source": [
    "p1 = person('hemant')"
   ]
  },
  {
   "cell_type": "code",
   "execution_count": 12,
   "id": "b6099eb4-c725-4295-b1b4-25145e18d5fe",
   "metadata": {},
   "outputs": [
    {
     "data": {
      "text/plain": [
       "'name of the person is hemant'"
      ]
     },
     "execution_count": 12,
     "metadata": {},
     "output_type": "execute_result"
    }
   ],
   "source": [
    "p1.get_name()"
   ]
  },
  {
   "cell_type": "code",
   "execution_count": 13,
   "id": "31413f20-54e0-40d6-addb-670fb97dd63f",
   "metadata": {},
   "outputs": [],
   "source": [
    "#Ques 4 : Answer\n",
    "\n",
    "#self represents the instance of the class. By using the “self” we can access the attributes and methods of the class in python. It binds the attributes with the given arguments."
   ]
  },
  {
   "cell_type": "code",
   "execution_count": 14,
   "id": "6b6652c8-fcf0-4cae-98e8-4e4d52d915db",
   "metadata": {},
   "outputs": [
    {
     "data": {
      "text/plain": [
       "'\\nThere are five types of inheritances:\\n\\nSingle Inheritance\\nMultiple Inheritance\\nMultilevel Inheritance\\nHierarchical Inheritance\\nHybrid Inheritance\\n'"
      ]
     },
     "execution_count": 14,
     "metadata": {},
     "output_type": "execute_result"
    }
   ],
   "source": [
    "#Ques 5 : Answer\n",
    "\n",
    "#Inheritance is a process of obtaining properties and characteristics(variables and methods) of another class. In this hierarchical order, the class which inherits another class is called subclass or child class, and the other class is the parent class.\n",
    "\n",
    "\"\"\"\n",
    "There are five types of inheritances:\n",
    "\n",
    "Single Inheritance\n",
    "Multiple Inheritance\n",
    "Multilevel Inheritance\n",
    "Hierarchical Inheritance\n",
    "Hybrid Inheritance\n",
    "\"\"\"\n"
   ]
  },
  {
   "cell_type": "code",
   "execution_count": 17,
   "id": "ae1f84b5-b72e-48a9-b5b8-244520ae5cf2",
   "metadata": {},
   "outputs": [],
   "source": [
    "#Single Inheritance\n",
    "\n",
    "class Above:\n",
    "    def fun1(self):\n",
    "        print (\"Hey there, you are in the parent class\")\n",
    "\n",
    "class Below(Above):\n",
    "    def fun2(self):\n",
    "        print(\"Hey there, you are in the sub class\")"
   ]
  },
  {
   "cell_type": "code",
   "execution_count": 18,
   "id": "b4cd2f93-2cd7-4346-8212-d4d3ccbe9508",
   "metadata": {},
   "outputs": [],
   "source": [
    "b = Below()"
   ]
  },
  {
   "cell_type": "code",
   "execution_count": 19,
   "id": "dab91ee2-3485-4254-a4f8-716e61fe7288",
   "metadata": {},
   "outputs": [
    {
     "name": "stdout",
     "output_type": "stream",
     "text": [
      "Hey there, you are in the parent class\n"
     ]
    }
   ],
   "source": [
    "b.fun1()"
   ]
  },
  {
   "cell_type": "code",
   "execution_count": 20,
   "id": "1a08deb7-ca3a-4d72-b863-d1ca53aee558",
   "metadata": {},
   "outputs": [
    {
     "name": "stdout",
     "output_type": "stream",
     "text": [
      "Hey there, you are in the sub class\n"
     ]
    }
   ],
   "source": [
    "b.fun2()"
   ]
  },
  {
   "cell_type": "code",
   "execution_count": 21,
   "id": "968f3469-f33c-4931-932b-fe29adc19f8a",
   "metadata": {},
   "outputs": [],
   "source": [
    "#Multiple Inheritance\n",
    "\n",
    "class A:\n",
    "    def fun1(self):\n",
    "        print(\"Class A\")\n",
    "\n",
    "class B:\n",
    "    def fun2(self):\n",
    "        print(\"Class B\")\n",
    "\n",
    "#child class\n",
    "class C(A, B):\n",
    "    def fun3(self):\n",
    "        print(\"Hey there, you are in the child class\")\n",
    "        "
   ]
  },
  {
   "cell_type": "code",
   "execution_count": 22,
   "id": "f32a1172-ed91-484c-bdff-77846a93434a",
   "metadata": {},
   "outputs": [],
   "source": [
    "c1 = C()"
   ]
  },
  {
   "cell_type": "code",
   "execution_count": 23,
   "id": "cbb14d7d-65c0-4e73-ad9b-c87a633642f1",
   "metadata": {},
   "outputs": [
    {
     "name": "stdout",
     "output_type": "stream",
     "text": [
      "Class A\n"
     ]
    }
   ],
   "source": [
    "c1.fun1()"
   ]
  },
  {
   "cell_type": "code",
   "execution_count": 24,
   "id": "ef7f21c9-ce97-4d4d-a844-bb9113dcb690",
   "metadata": {},
   "outputs": [
    {
     "name": "stdout",
     "output_type": "stream",
     "text": [
      "Class B\n"
     ]
    }
   ],
   "source": [
    "c1.fun2()"
   ]
  },
  {
   "cell_type": "code",
   "execution_count": 25,
   "id": "55948025-10b3-45e5-b2c9-b5d55320ab13",
   "metadata": {},
   "outputs": [
    {
     "name": "stdout",
     "output_type": "stream",
     "text": [
      "Hey there, you are in the child class\n"
     ]
    }
   ],
   "source": [
    "c1.fun3()"
   ]
  },
  {
   "cell_type": "code",
   "execution_count": 27,
   "id": "7cc12ad5-0528-424c-a9f3-9d4777c254f3",
   "metadata": {},
   "outputs": [],
   "source": [
    "#Multilevel Inheritance\n",
    "\n",
    "class vehicle:\n",
    "    def functioning(self):\n",
    "        print(\"vehicles are used for transportation\")\n",
    "\n",
    "class car(vehicle):\n",
    "    def wheels(self):\n",
    "        print(\"a car has 4 wheels\")\n",
    "       \n",
    "class electric_car(car):\n",
    "    def speciality(self):\n",
    "        print(\"electric car runs on electricity\")"
   ]
  },
  {
   "cell_type": "code",
   "execution_count": 28,
   "id": "64af5f5c-5bc0-4c2d-8f6b-b7b745e5506e",
   "metadata": {},
   "outputs": [],
   "source": [
    "e1=electric_car()"
   ]
  },
  {
   "cell_type": "code",
   "execution_count": 29,
   "id": "5c3a3ba2-adaa-459b-970c-6e2075acbde2",
   "metadata": {},
   "outputs": [
    {
     "name": "stdout",
     "output_type": "stream",
     "text": [
      "vehicles are used for transportation\n"
     ]
    }
   ],
   "source": [
    "e1.functioning()"
   ]
  },
  {
   "cell_type": "code",
   "execution_count": 30,
   "id": "961d0e75-fe99-4aed-bc84-65c7c51bdc4b",
   "metadata": {},
   "outputs": [
    {
     "name": "stdout",
     "output_type": "stream",
     "text": [
      "electric car runs on electricity\n"
     ]
    }
   ],
   "source": [
    "e1.speciality()"
   ]
  },
  {
   "cell_type": "code",
   "execution_count": 32,
   "id": "9e8c00c8-cfaa-45dd-9380-5cdf18e661d7",
   "metadata": {},
   "outputs": [
    {
     "name": "stdout",
     "output_type": "stream",
     "text": [
      "a car has 4 wheels\n"
     ]
    }
   ],
   "source": [
    "e1.wheels()"
   ]
  },
  {
   "cell_type": "code",
   "execution_count": 33,
   "id": "38cf97bc-9b8f-4103-b09a-0c98c9a43746",
   "metadata": {},
   "outputs": [],
   "source": [
    "#Hierarchical Inheritance\n",
    "\n",
    "class Parent:\n",
    "    def fun1(self):\n",
    "        print(\"the parent class\")\n",
    " \n",
    "class child1(Parent):\n",
    "    def fun2(self):\n",
    "        print(\"the child class 1\")\n",
    "\n",
    "class child2(Parent):\n",
    "    def fun3(self):\n",
    "        print(\"the child class 2\")"
   ]
  },
  {
   "cell_type": "code",
   "execution_count": 34,
   "id": "be6e1897-663d-4d9b-9755-3b6a3b8af5f7",
   "metadata": {},
   "outputs": [],
   "source": [
    "c1=child1()\n",
    "c2=child2()"
   ]
  },
  {
   "cell_type": "code",
   "execution_count": 35,
   "id": "9d6b205f-9b0f-4ff6-a631-3dd826d0051a",
   "metadata": {},
   "outputs": [
    {
     "name": "stdout",
     "output_type": "stream",
     "text": [
      "the parent class\n"
     ]
    }
   ],
   "source": [
    "c1.fun1()"
   ]
  },
  {
   "cell_type": "code",
   "execution_count": 36,
   "id": "cd78a19f-8f16-4e8e-a0de-bd4e87c46ce6",
   "metadata": {},
   "outputs": [
    {
     "name": "stdout",
     "output_type": "stream",
     "text": [
      "the child class 1\n"
     ]
    }
   ],
   "source": [
    "c1.fun2()"
   ]
  },
  {
   "cell_type": "code",
   "execution_count": 37,
   "id": "eadf257f-589e-4e4b-8517-5eb1eaa04dae",
   "metadata": {},
   "outputs": [
    {
     "name": "stdout",
     "output_type": "stream",
     "text": [
      "the parent class\n"
     ]
    }
   ],
   "source": [
    "c2.fun1()"
   ]
  },
  {
   "cell_type": "code",
   "execution_count": 38,
   "id": "31ecdc7a-5c3f-45e0-a956-e75358c27e73",
   "metadata": {},
   "outputs": [
    {
     "name": "stdout",
     "output_type": "stream",
     "text": [
      "the child class 2\n"
     ]
    }
   ],
   "source": [
    "c2.fun3()"
   ]
  },
  {
   "cell_type": "code",
   "execution_count": 39,
   "id": "d2f6da9a-109e-4955-b7e5-77198d7a4c36",
   "metadata": {},
   "outputs": [],
   "source": [
    "#Hybrid Inheritance\n",
    "\n",
    "class A:\n",
    "    def fun1(self):\n",
    "        print(\"class A\")\n",
    "\n",
    "class B(A):\n",
    "    def fun2(self):\n",
    "        print(\"class B\")\n",
    "        \n",
    "class C(A):\n",
    "    def fun3(self):\n",
    "        print(\"class C\")\n",
    "        \n",
    "class D(C,A):\n",
    "    def fun4(self):\n",
    "        print(\"class D\")\n",
    "        "
   ]
  },
  {
   "cell_type": "code",
   "execution_count": 40,
   "id": "06a1e071-0746-4dab-9db5-c6d49fec84e9",
   "metadata": {},
   "outputs": [],
   "source": [
    "d1 = D()"
   ]
  },
  {
   "cell_type": "code",
   "execution_count": 41,
   "id": "125133bc-e109-48a5-a498-a2816ccb2ce9",
   "metadata": {},
   "outputs": [
    {
     "name": "stdout",
     "output_type": "stream",
     "text": [
      "class A\n"
     ]
    }
   ],
   "source": [
    "d1.fun1()"
   ]
  },
  {
   "cell_type": "code",
   "execution_count": 42,
   "id": "7593ffde-c272-4c85-b2f6-d03f39a36eff",
   "metadata": {},
   "outputs": [
    {
     "name": "stdout",
     "output_type": "stream",
     "text": [
      "class C\n"
     ]
    }
   ],
   "source": [
    "d1.fun3()"
   ]
  },
  {
   "cell_type": "code",
   "execution_count": 43,
   "id": "3fc7ee4b-a775-451c-a3fb-e1ae00394817",
   "metadata": {},
   "outputs": [
    {
     "name": "stdout",
     "output_type": "stream",
     "text": [
      "class D\n"
     ]
    }
   ],
   "source": [
    "d1.fun4()"
   ]
  },
  {
   "cell_type": "code",
   "execution_count": null,
   "id": "71e89665-a52e-4cb7-a138-c203ffb4564b",
   "metadata": {},
   "outputs": [],
   "source": []
  }
 ],
 "metadata": {
  "kernelspec": {
   "display_name": "Python 3 (ipykernel)",
   "language": "python",
   "name": "python3"
  },
  "language_info": {
   "codemirror_mode": {
    "name": "ipython",
    "version": 3
   },
   "file_extension": ".py",
   "mimetype": "text/x-python",
   "name": "python",
   "nbconvert_exporter": "python",
   "pygments_lexer": "ipython3",
   "version": "3.10.8"
  }
 },
 "nbformat": 4,
 "nbformat_minor": 5
}
