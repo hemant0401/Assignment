{
 "cells": [
  {
   "cell_type": "code",
   "execution_count": 1,
   "id": "6235cebc-4a20-4a58-bec6-bdbc5156520a",
   "metadata": {},
   "outputs": [
    {
     "data": {
      "text/plain": [
       "'The key function for working with files in Python is the open() function.\\n\\nThe open() function takes two parameters; filename, and mode.\\n\\n\"r\" - Read - Default value. Opens a file for reading, error if the file does not exist\\n\\n\"a\" - Append - Opens a file for appending, creates the file if it does not exist\\n\\n\"w\" - Write - Opens a file for writing, creates the file if it does not exist\\n\\n\"x\" - Create - Creates the specified file, returns an error if the file exists\\n\\n\"t\" - Text - Default value. Text mode\\n\\n\"b\" - Binary - Binary mode\\n\\n'"
      ]
     },
     "execution_count": 1,
     "metadata": {},
     "output_type": "execute_result"
    }
   ],
   "source": [
    "#Ques 1 : Answer\n",
    "\n",
    "\"\"\"Which function is used to open a file? What are the different modes of opening a file? Explain each mode\n",
    "of file opening.\"\"\"\n",
    "\n",
    "\"\"\"The key function for working with files in Python is the open() function.\n",
    "\n",
    "The open() function takes two parameters; filename, and mode.\n",
    "\n",
    "\"r\" - Read - Default value. Opens a file for reading, error if the file does not exist\n",
    "\n",
    "\"a\" - Append - Opens a file for appending, creates the file if it does not exist\n",
    "\n",
    "\"w\" - Write - Opens a file for writing, creates the file if it does not exist\n",
    "\n",
    "\"x\" - Create - Creates the specified file, returns an error if the file exists\n",
    "\n",
    "\"t\" - Text - Default value. Text mode\n",
    "\n",
    "\"b\" - Binary - Binary mode\n",
    "\n",
    "\"\"\"\n"
   ]
  },
  {
   "cell_type": "code",
   "execution_count": 2,
   "id": "102b919e-5f0d-4519-8125-1fb6e37a0980",
   "metadata": {},
   "outputs": [
    {
     "data": {
      "text/plain": [
       "'The close() method closes an open file.\\n\\nYou should always close your files, in some cases, due to buffering, changes made to a file may\\nnot show until you close the file.\\n\\nfile.close()\\n'"
      ]
     },
     "execution_count": 2,
     "metadata": {},
     "output_type": "execute_result"
    }
   ],
   "source": [
    "#Ques 2 : Answer\n",
    "\n",
    "\"\"\"Why close() function is used? Why is it important to close a file?\"\"\"\n",
    "\n",
    "\"\"\"The close() method closes an open file.\n",
    "\n",
    "You should always close your files, in some cases, due to buffering, changes made to a file may\n",
    "not show until you close the file.\n",
    "\n",
    "file.close()\n",
    "\"\"\""
   ]
  },
  {
   "cell_type": "code",
   "execution_count": 3,
   "id": "f1cfce19-4852-486e-b522-7c4cef96e55f",
   "metadata": {},
   "outputs": [],
   "source": [
    "#Ques 3 : Answer\n",
    "\n",
    "\"\"\"Write a python program to create a text file. Write ‘I want to become a Data Scientist’ in that file. Then\n",
    "close the file. Open this file and read the content of the file.\"\"\"\n",
    "\n",
    "f = open('test.txt','w')"
   ]
  },
  {
   "cell_type": "code",
   "execution_count": 4,
   "id": "406c7ad4-3bff-416e-b193-2e189d0570ca",
   "metadata": {},
   "outputs": [
    {
     "data": {
      "text/plain": [
       "33"
      ]
     },
     "execution_count": 4,
     "metadata": {},
     "output_type": "execute_result"
    }
   ],
   "source": [
    "f.write(\"I want to become a Data Scientist\")"
   ]
  },
  {
   "cell_type": "code",
   "execution_count": 5,
   "id": "f8fd0388-352d-437c-882e-d13164d61ce9",
   "metadata": {},
   "outputs": [],
   "source": [
    "f.close()"
   ]
  },
  {
   "cell_type": "code",
   "execution_count": 11,
   "id": "e00ca88a-7041-4ab4-b18a-60e19ed7a08a",
   "metadata": {},
   "outputs": [
    {
     "data": {
      "text/plain": [
       "0"
      ]
     },
     "execution_count": 11,
     "metadata": {},
     "output_type": "execute_result"
    }
   ],
   "source": [
    "#Ques 4 : Answer\n",
    "\n",
    "\"\"\"Explain the following with python code: read(), readline() and readlines().\"\"\"\n",
    "\n",
    "f=open('test.txt','r')\n",
    "f.seek(0)"
   ]
  },
  {
   "cell_type": "code",
   "execution_count": 8,
   "id": "a53d594f-d0ec-4bde-912d-f3dcab93daca",
   "metadata": {},
   "outputs": [
    {
     "data": {
      "text/plain": [
       "'I want to become a Data Scientist\\nFirst we will learn python\\nthen we will learn stat'"
      ]
     },
     "execution_count": 8,
     "metadata": {},
     "output_type": "execute_result"
    }
   ],
   "source": [
    "#read() is used for reading the full file content \n",
    "f.read()"
   ]
  },
  {
   "cell_type": "code",
   "execution_count": 10,
   "id": "0b3904d2-b015-4b55-947d-602e7340b31c",
   "metadata": {},
   "outputs": [
    {
     "data": {
      "text/plain": [
       "'I want to become a Data Scientist\\n'"
      ]
     },
     "execution_count": 10,
     "metadata": {},
     "output_type": "execute_result"
    }
   ],
   "source": [
    "#Python readline() method will return a line from the file when called.\n",
    "f.readline()"
   ]
  },
  {
   "cell_type": "code",
   "execution_count": 12,
   "id": "c1bea237-65bd-42d0-ab9a-9947556d5162",
   "metadata": {},
   "outputs": [
    {
     "data": {
      "text/plain": [
       "['I want to become a Data Scientist\\n',\n",
       " 'First we will learn python\\n',\n",
       " 'then we will learn stat']"
      ]
     },
     "execution_count": 12,
     "metadata": {},
     "output_type": "execute_result"
    }
   ],
   "source": [
    "#readlines() method will return all the lines in a file in the format of a list where each element is a line in the file.\n",
    "\n",
    "f.readlines()"
   ]
  },
  {
   "cell_type": "code",
   "execution_count": 13,
   "id": "0e6da471-b503-40a8-b7f5-77347b11220c",
   "metadata": {},
   "outputs": [],
   "source": [
    "f.close()"
   ]
  },
  {
   "cell_type": "code",
   "execution_count": 14,
   "id": "974ecb07-0f01-47c7-be3a-2285371ad083",
   "metadata": {},
   "outputs": [
    {
     "data": {
      "text/plain": [
       "'Unlike open() where you have to close the file with the close() method, the with statement closes the file for you without you telling it to.\\n\\nThis is because the with statement calls 2 built-in methods behind the scene – __enter()__ and __exit()__.\\n\\nThe __exit()__ method closes the file when the operation you specify is done.'"
      ]
     },
     "execution_count": 14,
     "metadata": {},
     "output_type": "execute_result"
    }
   ],
   "source": [
    "#Ques 5 : Answer\n",
    "\n",
    "\"\"\"Explain why with statement is used with open(). What is the advantage of using with statement and\n",
    "open() together?\"\"\"\n",
    "\n",
    "\"\"\"Unlike open() where you have to close the file with the close() method, the with statement closes the file for you without you telling it to.\n",
    "\n",
    "This is because the with statement calls 2 built-in methods behind the scene – __enter()__ and __exit()__.\n",
    "\n",
    "The __exit()__ method closes the file when the operation you specify is done.\"\"\"\n",
    "\n",
    "\n"
   ]
  },
  {
   "cell_type": "code",
   "execution_count": 17,
   "id": "80e07cce-8368-4672-9bbd-cad9ef33ed28",
   "metadata": {},
   "outputs": [],
   "source": [
    "#Ques 6 : Answer\n",
    "\n",
    "\"\"\"Explain the write() and writelines() functions. Give a suitable example.\"\"\"\n",
    "\n",
    "\"\"\"The write() function will write the content in the file without adding any extra characters.\"\"\"\n",
    "\n",
    "f = open(\"test1.txt\", \"w\")\n",
    "f.write(\"hello this is example for write() function\")\n",
    "     \n",
    "f.close()"
   ]
  },
  {
   "cell_type": "code",
   "execution_count": 19,
   "id": "ffbc7d42-ad77-4395-83e1-77bd8fda1fbe",
   "metadata": {},
   "outputs": [],
   "source": [
    "\"\"\"writelines() function writes the content of a list to a file.\"\"\"\n",
    "\n",
    "l1=[\"hem\",\"mis\"]\n",
    "with open(\"test2.txt\",\"w\") as f:\n",
    "    f.writelines(l1)\n",
    "f.close()\n",
    "    "
   ]
  },
  {
   "cell_type": "code",
   "execution_count": null,
   "id": "33c833c6-accf-4882-bddf-e71f0bfdb15e",
   "metadata": {},
   "outputs": [],
   "source": []
  }
 ],
 "metadata": {
  "kernelspec": {
   "display_name": "Python 3 (ipykernel)",
   "language": "python",
   "name": "python3"
  },
  "language_info": {
   "codemirror_mode": {
    "name": "ipython",
    "version": 3
   },
   "file_extension": ".py",
   "mimetype": "text/x-python",
   "name": "python",
   "nbconvert_exporter": "python",
   "pygments_lexer": "ipython3",
   "version": "3.10.8"
  }
 },
 "nbformat": 4,
 "nbformat_minor": 5
}
