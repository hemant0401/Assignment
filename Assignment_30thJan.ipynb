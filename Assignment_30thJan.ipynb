{
 "cells": [
  {
   "cell_type": "code",
   "execution_count": 4,
   "id": "903022e4-a5ae-433c-b2c5-cbc408aa7f94",
   "metadata": {},
   "outputs": [
    {
     "name": "stdin",
     "output_type": "stream",
     "text": [
      "Enter Percentage  65\n"
     ]
    },
    {
     "name": "stdout",
     "output_type": "stream",
     "text": [
      "Grade C\n"
     ]
    }
   ],
   "source": [
    "#Ques 1 : Answer\n",
    "\n",
    "per = int(input(\"Enter Percentage \"))\n",
    "if per >90 :\n",
    "    print (\"Grade A\")\n",
    "if per >80 and per<=90 :\n",
    "    print (\"Grade B\")\n",
    "if per >=60 and per<=80 :\n",
    "    print (\"Grade C\")\n",
    "else:\n",
    "    print (\"Grade D\")"
   ]
  },
  {
   "cell_type": "code",
   "execution_count": 7,
   "id": "9d79134a-aa44-4f27-b0eb-502cd48eb6a7",
   "metadata": {},
   "outputs": [
    {
     "name": "stdin",
     "output_type": "stream",
     "text": [
      "Enter Bike Price  75000\n"
     ]
    },
    {
     "name": "stdout",
     "output_type": "stream",
     "text": [
      "Tax on bike is  7500.0\n"
     ]
    }
   ],
   "source": [
    "#Ques 2 : Answer\n",
    "\n",
    "bike_price = int(input(\"Enter Bike Price \"))\n",
    "if bike_price >100000 :\n",
    "    tax = (15*bike_price)/100\n",
    "    print(\"Tax on bike is \",tax)\n",
    "if bike_price >50000 and bike_price <=100000:\n",
    "    tax = (10*bike_price)/100\n",
    "    print(\"Tax on bike is \",tax)\n",
    "else:\n",
    "    tax = (5*bike_price)/100\n",
    "    print(\"Tax on bike is \",tax)"
   ]
  },
  {
   "cell_type": "code",
   "execution_count": 8,
   "id": "26f9fa9d-be94-4efe-8d85-0cfbf18045e6",
   "metadata": {},
   "outputs": [
    {
     "name": "stdin",
     "output_type": "stream",
     "text": [
      "Enter the City from Delhi , Agra and Jaipur  Delhi\n"
     ]
    },
    {
     "name": "stdout",
     "output_type": "stream",
     "text": [
      "Red Fort\n"
     ]
    }
   ],
   "source": [
    "#Ques 3 : Answer\n",
    "\n",
    "Delhi=\"Red Fort\"\n",
    "Agra=\"Taj Mahal\"\n",
    "Jaipur=\"Jal Mahal\"\n",
    "\n",
    "City= input(\"Enter the City from Delhi , Agra and Jaipur \")\n",
    "if City == \"Delhi\":\n",
    "    print(Delhi)\n",
    "elif City == \"Agra\":\n",
    "    print(Agra)\n",
    "elif City == \"Jaipur\":\n",
    "    print(Jaipur)\n",
    "else:\n",
    "    print(\"Enter Valid City Name \")"
   ]
  },
  {
   "cell_type": "code",
   "execution_count": 1,
   "id": "ff60236f-ebfb-437c-80d5-a04d94c1272d",
   "metadata": {},
   "outputs": [
    {
     "name": "stdin",
     "output_type": "stream",
     "text": [
      "Enter number  120\n"
     ]
    },
    {
     "name": "stdout",
     "output_type": "stream",
     "text": [
      "2\n"
     ]
    }
   ],
   "source": [
    "#Ques 4 : Answer\n",
    "\n",
    "num=int(input(\"Enter number \"))\n",
    "count=0\n",
    "while (num/3)>10:\n",
    "\tif (num/3)>10:\n",
    "\t\tcount=count+1\n",
    "\t\tnum=(num/3)\n",
    "\telse:\n",
    "\t\tbreak\n",
    "\n",
    "print(count)\n"
   ]
  },
  {
   "cell_type": "code",
   "execution_count": 2,
   "id": "3e3e68c6-d49f-4c35-9ae9-b8e10524f4e3",
   "metadata": {},
   "outputs": [
    {
     "name": "stdout",
     "output_type": "stream",
     "text": [
      "number  0\n",
      "number  1\n",
      "number  2\n",
      "number  3\n",
      "number  4\n",
      "number  5\n",
      "number  6\n",
      "number  7\n",
      "number  8\n",
      "number  9\n"
     ]
    }
   ],
   "source": [
    "#Ques 5 : Answer\n",
    "\n",
    "#With the while loop we can execute a set of statements as long as a condition is true\n",
    "\n",
    "count=0\n",
    "while count<10 :\n",
    "\tprint(\"number \", count)\n",
    "\tcount=count+1\n"
   ]
  },
  {
   "cell_type": "code",
   "execution_count": 3,
   "id": "2da0cafe-a7e5-4bf9-811a-906122ef068d",
   "metadata": {},
   "outputs": [
    {
     "name": "stdout",
     "output_type": "stream",
     "text": [
      "1\n",
      "12\n",
      "123\n",
      "1234\n",
      "12345\n"
     ]
    }
   ],
   "source": [
    "#Ques 6 : Answer\n",
    "\n",
    "i=1\n",
    "str1=\"\"\n",
    "while i<=5 :\n",
    "\tj=1\n",
    "\twhile j<=i :\n",
    "\t\tstr1=str1+str(j)\n",
    "\t\tint(j)\n",
    "\t\tj=j+1\n",
    "\tprint(str1)\n",
    "\tstr1=\"\"\n",
    "\ti=i+1\n"
   ]
  },
  {
   "cell_type": "code",
   "execution_count": 5,
   "id": "4c3044dc-12bb-4614-9630-b0374ac96bd2",
   "metadata": {},
   "outputs": [
    {
     "name": "stdout",
     "output_type": "stream",
     "text": [
      "12345\n",
      "1234\n",
      "123\n",
      "12\n",
      "1\n"
     ]
    }
   ],
   "source": [
    "i=5\n",
    "str1=\"\"\n",
    "while i<=5 :\n",
    "\tj=1\n",
    "\twhile j<=i :\n",
    "\t\tstr1=str1+str(j)\n",
    "\t\tint(j)\n",
    "\t\tj=j+1\n",
    "\tprint(str1)\n",
    "\tstr1=\"\"\n",
    "\ti=i-1\n",
    "\tif i==0:\n",
    "\t\tbreak\n"
   ]
  },
  {
   "cell_type": "code",
   "execution_count": 6,
   "id": "33702251-9cc7-4b68-90d3-1559e9a18b0a",
   "metadata": {},
   "outputs": [
    {
     "name": "stdout",
     "output_type": "stream",
     "text": [
      "10\n",
      "9\n",
      "8\n",
      "7\n",
      "6\n",
      "5\n",
      "4\n",
      "3\n",
      "2\n",
      "1\n"
     ]
    }
   ],
   "source": [
    "#Ques 7 : Answer\n",
    "\n",
    "i=10\n",
    "while i<=10:\n",
    "\tprint(i)\n",
    "\ti=i-1\n",
    "\tif i==0:\n",
    "\t\tbreak"
   ]
  },
  {
   "cell_type": "code",
   "execution_count": 7,
   "id": "85df17a9-2f3f-4953-93df-3e4769f11855",
   "metadata": {},
   "outputs": [
    {
     "name": "stdout",
     "output_type": "stream",
     "text": [
      "10\n",
      "9\n",
      "8\n",
      "7\n",
      "6\n",
      "5\n",
      "4\n",
      "3\n",
      "2\n",
      "1\n"
     ]
    }
   ],
   "source": [
    "#Ques 8 : Answer\n",
    "\n",
    "i=10\n",
    "while i<=10:\n",
    "\tprint(i)\n",
    "\ti=i-1\n",
    "\tif i==0:\n",
    "\t\tbreak"
   ]
  },
  {
   "cell_type": "code",
   "execution_count": null,
   "id": "5dbeceb6-96b4-466d-aa21-475e6b0dc89a",
   "metadata": {},
   "outputs": [],
   "source": []
  }
 ],
 "metadata": {
  "kernelspec": {
   "display_name": "Python 3 (ipykernel)",
   "language": "python",
   "name": "python3"
  },
  "language_info": {
   "codemirror_mode": {
    "name": "ipython",
    "version": 3
   },
   "file_extension": ".py",
   "mimetype": "text/x-python",
   "name": "python",
   "nbconvert_exporter": "python",
   "pygments_lexer": "ipython3",
   "version": "3.10.8"
  }
 },
 "nbformat": 4,
 "nbformat_minor": 5
}
