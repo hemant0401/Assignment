{
 "cells": [
  {
   "cell_type": "code",
   "execution_count": 1,
   "id": "19e3ec82-77d3-472a-af1f-a769c4e7df54",
   "metadata": {},
   "outputs": [],
   "source": [
    "#Que 1 : Answer\n",
    "\n",
    "list4=[('Sachin Tendulkar',34357),('Ricky Ponting',27483),('Jack Kallis',25534),('Virat Kohli',24936)]"
   ]
  },
  {
   "cell_type": "code",
   "execution_count": 2,
   "id": "7caf2da6-2665-4d33-83ee-99c8ff65f02f",
   "metadata": {},
   "outputs": [],
   "source": [
    "list4.sort(key=lambda i:i[1])"
   ]
  },
  {
   "cell_type": "code",
   "execution_count": 3,
   "id": "f085d1a4-b326-4dc3-a244-3c4aa735edff",
   "metadata": {},
   "outputs": [
    {
     "data": {
      "text/plain": [
       "[('Virat Kohli', 24936),\n",
       " ('Jack Kallis', 25534),\n",
       " ('Ricky Ponting', 27483),\n",
       " ('Sachin Tendulkar', 34357)]"
      ]
     },
     "execution_count": 3,
     "metadata": {},
     "output_type": "execute_result"
    }
   ],
   "source": [
    "list4"
   ]
  },
  {
   "cell_type": "code",
   "execution_count": 4,
   "id": "295fac84-48d6-4fbc-865e-d8716c0ffa26",
   "metadata": {},
   "outputs": [],
   "source": [
    "# Que 2 : Answer\n",
    "\n",
    "list1=[1,2,3,4,5,6,7,8,9,10]"
   ]
  },
  {
   "cell_type": "code",
   "execution_count": 5,
   "id": "b5f2aa36-9315-4719-a4b0-a5091ecd1d5f",
   "metadata": {},
   "outputs": [
    {
     "data": {
      "text/plain": [
       "[1, 4, 9, 16, 25, 36, 49, 64, 81, 100]"
      ]
     },
     "execution_count": 5,
     "metadata": {},
     "output_type": "execute_result"
    }
   ],
   "source": [
    "list(map(lambda i : i**2 , list1))"
   ]
  },
  {
   "cell_type": "code",
   "execution_count": 2,
   "id": "22d2bc0f-011a-4f42-8d73-b4c5a629ec43",
   "metadata": {},
   "outputs": [
    {
     "name": "stdout",
     "output_type": "stream",
     "text": [
      "('1', '2', '3', '4', '5', '6', '7', '8', '9', '10')\n"
     ]
    }
   ],
   "source": [
    "#Que 3 : Answer\n",
    "\n",
    "string1=[1,2,3,4,5,6,7,8,9,10]\n",
    "tup=()\n",
    "str1=[]\n",
    "tup=tuple(map(lambda str1 : str(str1) ,string1))\n",
    "print(tup)"
   ]
  },
  {
   "cell_type": "code",
   "execution_count": 5,
   "id": "25fbda38-8fa2-4f59-8302-b40e2ea5e754",
   "metadata": {},
   "outputs": [
    {
     "name": "stdout",
     "output_type": "stream",
     "text": [
      "15511210043330985984000000\n"
     ]
    }
   ],
   "source": [
    "#Que 4 : Answer\n",
    "\n",
    "list1=range(1,26)\n",
    "from functools import reduce\n",
    "a=reduce(lambda x,y : x*y ,list1)\n",
    "print(a)"
   ]
  },
  {
   "cell_type": "code",
   "execution_count": 6,
   "id": "02faf38c-bb64-434b-8c59-a2bc2dc9eac7",
   "metadata": {},
   "outputs": [
    {
     "name": "stdout",
     "output_type": "stream",
     "text": [
      "[6, 60, 90, 120]\n"
     ]
    }
   ],
   "source": [
    "#Que 5 : Answer\n",
    "\n",
    "list1 = [2,3,6,9,27,60,90,120,55,46]\n",
    "list2=[]\n",
    "list2=list(filter(lambda x : x%2==0 and x%3==0 , list1))\n",
    "print(list2)"
   ]
  },
  {
   "cell_type": "code",
   "execution_count": 7,
   "id": "e6ab197b-4353-486a-98e8-8dabf10bfdfa",
   "metadata": {},
   "outputs": [
    {
     "name": "stdout",
     "output_type": "stream",
     "text": [
      "['php', 'aba', 'radar', 'level']\n"
     ]
    }
   ],
   "source": [
    "#Que 6 : Answer\n",
    "\n",
    "list1=['python','php','aba','radar','level']\n",
    "list2=[]\n",
    "list2=list(filter(lambda x : x==x[::-1],list1))\n",
    "print(list2)"
   ]
  },
  {
   "cell_type": "code",
   "execution_count": null,
   "id": "4040265d-0b7a-4904-88e6-a62cbf6a1dad",
   "metadata": {},
   "outputs": [],
   "source": []
  }
 ],
 "metadata": {
  "kernelspec": {
   "display_name": "Python 3 (ipykernel)",
   "language": "python",
   "name": "python3"
  },
  "language_info": {
   "codemirror_mode": {
    "name": "ipython",
    "version": 3
   },
   "file_extension": ".py",
   "mimetype": "text/x-python",
   "name": "python",
   "nbconvert_exporter": "python",
   "pygments_lexer": "ipython3",
   "version": "3.10.8"
  }
 },
 "nbformat": 4,
 "nbformat_minor": 5
}
