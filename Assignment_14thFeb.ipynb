{
 "cells": [
  {
   "cell_type": "code",
   "execution_count": 1,
   "id": "68a4a6eb-2c30-44c3-8168-39847d59c2b4",
   "metadata": {},
   "outputs": [
    {
     "data": {
      "text/plain": [
       "'Create a new thread by importing the threading module'"
      ]
     },
     "execution_count": 1,
     "metadata": {},
     "output_type": "execute_result"
    }
   ],
   "source": [
    "#Ques 1 : what is multithreading in python? why is it used? Name the module used to handle threads in python\n",
    "\n",
    "\"\"\"Answer : Multithreading refers to concurrently executing multiple threads by rapidly switching the control of the CPU between threads\"\"\"\n",
    "\"\"\"Python multithreading enables efficient utilization of the resources as the threads share the data space and memory. Multithreading in Python allows the concurrent and parallel occurrence of various tasks. It causes a reduction in time consumption or response time, thereby increasing the performance\"\"\"\n",
    "\"\"\"Create a new thread by importing the threading module\"\"\""
   ]
  },
  {
   "cell_type": "code",
   "execution_count": 2,
   "id": "f255703e-19ff-45a5-b0a2-0b57af71b220",
   "metadata": {},
   "outputs": [
    {
     "data": {
      "text/plain": [
       "'Answer : Python threading allows you to have different parts of your program run concurrently and can simplify your design.'"
      ]
     },
     "execution_count": 2,
     "metadata": {},
     "output_type": "execute_result"
    }
   ],
   "source": [
    "#Ques 2 : why threading module used? write the use of the following functions\n",
    "\n",
    "\"\"\"Answer : Python threading allows you to have different parts of your program run concurrently and can simplify your design.\"\"\"\n",
    "\n",
    "#activeCount : Returns the number of thread objects that are active.\n",
    "#currentThread : Returns the number of thread objects in the caller's thread control.\n",
    "#enumerate : Returns a list of all thread objects that are currently active\n"
   ]
  },
  {
   "cell_type": "code",
   "execution_count": 3,
   "id": "56150463-761f-4bd2-bbc8-2c5cc680d2c4",
   "metadata": {},
   "outputs": [],
   "source": [
    "#Ques 3 : Explain the following functions\n",
    "#run : The run() method is the entry point for a thread\n",
    "#start : The start() method starts a thread by calling the run method.\n",
    "#join : The join() waits for threads to terminate.\n",
    "#isAlive : The isAlive() method checks whether a thread is still executing."
   ]
  },
  {
   "cell_type": "code",
   "execution_count": 64,
   "id": "d232aa03-903f-4b94-a151-2d90629740ed",
   "metadata": {},
   "outputs": [],
   "source": [
    "#Ques 4 : Write a python program to create two threads. Thread one must print the list of squares and thread two must print the list of cubes\n",
    "\n",
    "import threading\n",
    "def SquareInList(y):\n",
    "    print(y**2)\n",
    "    \n",
    "\n",
    "def cubeInList(y):\n",
    "    print(y**3)\n"
   ]
  },
  {
   "cell_type": "code",
   "execution_count": 65,
   "id": "293e3503-5b48-4f33-b8eb-55099f326165",
   "metadata": {},
   "outputs": [],
   "source": [
    "l1=range(1,11)\n",
    "thre1=[threading.Thread(target=SquareInList,args=(i,)) for i in l1] \n",
    "thre2=[threading.Thread(target=cubeInList,args=(i,)) for i in l1]\n"
   ]
  },
  {
   "cell_type": "code",
   "execution_count": 66,
   "id": "43cb9ebf-a996-4318-958f-894c61690232",
   "metadata": {},
   "outputs": [
    {
     "name": "stdout",
     "output_type": "stream",
     "text": [
      "1\n",
      "4\n",
      "9\n",
      "16\n",
      "25\n",
      "36\n",
      "49\n",
      "64\n",
      "81\n",
      "100\n",
      "1\n",
      "8\n",
      "27\n",
      "64\n",
      "125\n",
      "216\n",
      "343\n",
      "512\n",
      "729\n",
      "1000\n"
     ]
    }
   ],
   "source": [
    "for i in thre1:\n",
    "    i.start()\n",
    "for j in thre2:\n",
    "    j.start()"
   ]
  },
  {
   "cell_type": "code",
   "execution_count": 67,
   "id": "dda18aad-e38b-4076-a6a2-234e4379a61b",
   "metadata": {},
   "outputs": [
    {
     "data": {
      "text/plain": [
       "'Disadvantage : Difficulty of writing code . Difficulty of debugging . Difficulty of managing concurrency . Difficulty of testing . \\nDifficulty of porting existing code'"
      ]
     },
     "execution_count": 67,
     "metadata": {},
     "output_type": "execute_result"
    }
   ],
   "source": [
    "#Ques 5 : State advantages and disadvantages of multithreading\n",
    "\n",
    "\"\"\"Advantage : Python multithreading enables efficient utilization of the resources as the threads share the data space and memory.\n",
    "Multithreading in Python allows the concurrent and parallel occurrence of various tasks.\n",
    "It causes a reduction in time consumption or response time, thereby increasing the performance.\"\"\"\n",
    "\n",
    "\"\"\"Disadvantage : Difficulty of writing code . Difficulty of debugging . Difficulty of managing concurrency . Difficulty of testing . \n",
    "Difficulty of porting existing code\"\"\""
   ]
  },
  {
   "cell_type": "code",
   "execution_count": null,
   "id": "913b5e48-370a-41c4-8c2c-854043a73833",
   "metadata": {},
   "outputs": [],
   "source": [
    "#Ques 6 : Explain deadlocks and race conditions.\n",
    "\n",
    "\"\"\" Race Condition : When two processes are competing with each other causing data corruption.\"\"\"\n",
    "\n",
    "\"\"\"When two processes are waiting for each other directly or indirectly, it is called deadlock.\n",
    "\n",
    "This usually occurs when two processes are waiting for shared resources acquired by others. For example, If thread T1 acquired resource R1 and it also needs resource R2 for it to accomplish its task. But the resource R2 is acquired by thread T2 which is waiting for resource R1(which is acquired by T1).. Neither of them will be able to accomplish its task, as they keep waiting for the other resources they need.\"\"\""
   ]
  }
 ],
 "metadata": {
  "kernelspec": {
   "display_name": "Python 3 (ipykernel)",
   "language": "python",
   "name": "python3"
  },
  "language_info": {
   "codemirror_mode": {
    "name": "ipython",
    "version": 3
   },
   "file_extension": ".py",
   "mimetype": "text/x-python",
   "name": "python",
   "nbconvert_exporter": "python",
   "pygments_lexer": "ipython3",
   "version": "3.10.8"
  }
 },
 "nbformat": 4,
 "nbformat_minor": 5
}
