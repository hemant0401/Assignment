{
 "cells": [
  {
   "cell_type": "code",
   "execution_count": 1,
   "id": "1cddb056-948e-4ff3-bc8b-9bcc172b6d6c",
   "metadata": {},
   "outputs": [],
   "source": [
    "#Ques 1 : Answer\n",
    "\"\"\"Q1, Create a vehicle class with an init method having instance variables as name_of_vehicle, max_speed\n",
    "and average_of_vehicle.\"\"\"\n",
    "\n",
    "class vehicle:\n",
    "    def __init__(self,name_of_vehicle,max_speed,average_of_vehicle):\n",
    "        self.name_of_vehicle = name_of_vehicle\n",
    "        self.max_speed = max_speed\n",
    "        self.average_of_vehicle = average_of_vehicle\n",
    "        "
   ]
  },
  {
   "cell_type": "code",
   "execution_count": 3,
   "id": "96672fca-0f31-4202-a7c4-7ee2daeaecdc",
   "metadata": {},
   "outputs": [],
   "source": [
    "#Ques 2 : Answer\n",
    "\"\"\" Create a child class car from the vehicle class created in Que 1, which will inherit the vehicle class.\n",
    "Create a method named seating_capacity which takes capacity as an argument and returns the name of\n",
    "the vehicle and its seating capacity.\"\"\"\n",
    "\n",
    "class car(vehicle):\n",
    "    def seating_capacity(self,capacity):\n",
    "        self.capacity=capacity\n",
    "        return self.name_of_vehicle , self.capacity\n",
    "    \n",
    "    "
   ]
  },
  {
   "cell_type": "code",
   "execution_count": 12,
   "id": "fb771e51-2f4c-4679-ac20-d83e653e3836",
   "metadata": {},
   "outputs": [],
   "source": [
    "#Ques 3 : Answer\n",
    "\"\"\"What is multiple inheritance? Write a python code to demonstrate multiple inheritance.\"\"\"\n",
    "\n",
    "\"\"\"A class can be derived from more than one superclass in Python. This is called multiple inheritance.\"\"\"\n",
    "\n",
    "class father:\n",
    "    def father_method(self):\n",
    "        print(\"this is father class\")\n",
    "        \n",
    "class mother:\n",
    "    def mother_method(self):\n",
    "        print(\"this is mother class\")\n",
    "        \n",
    "class child(father,mother):\n",
    "    def child_method(self):\n",
    "        print(\"thos is child class\")\n",
    "    \n"
   ]
  },
  {
   "cell_type": "code",
   "execution_count": 13,
   "id": "9fecb311-fe17-4090-a8f0-463ece5a1299",
   "metadata": {},
   "outputs": [],
   "source": [
    "ch = child()"
   ]
  },
  {
   "cell_type": "code",
   "execution_count": 14,
   "id": "f65932d5-c646-4f86-bba5-f94cb26040c3",
   "metadata": {},
   "outputs": [
    {
     "name": "stdout",
     "output_type": "stream",
     "text": [
      "this is father class\n"
     ]
    }
   ],
   "source": [
    "ch.father_method()"
   ]
  },
  {
   "cell_type": "code",
   "execution_count": 15,
   "id": "0986da69-cdad-41c1-a3ec-ead05d05310d",
   "metadata": {},
   "outputs": [
    {
     "name": "stdout",
     "output_type": "stream",
     "text": [
      "this is mother class\n"
     ]
    }
   ],
   "source": [
    "ch.mother_method()"
   ]
  },
  {
   "cell_type": "code",
   "execution_count": 16,
   "id": "7436d005-97b2-4942-9e4c-5b108098b58e",
   "metadata": {},
   "outputs": [
    {
     "name": "stdout",
     "output_type": "stream",
     "text": [
      "thos is child class\n"
     ]
    }
   ],
   "source": [
    "ch.child_method()"
   ]
  },
  {
   "cell_type": "code",
   "execution_count": 17,
   "id": "87af534e-4d55-462d-ac8b-50a13b89a50c",
   "metadata": {},
   "outputs": [],
   "source": [
    "#Ques 4 : Answer\n",
    "\n",
    "\"\"\"What are getter and setter in python? Create a class and create a getter and a setter method in this class.\"\"\"\n",
    "\n",
    "\"\"\"Getter: A method that allows you to access an attribute in a given class\n",
    "Setter: A method that allows you to set or mutate the value of an attribute in a class\"\"\"\n",
    "\n",
    "class Student:\n",
    "    def __init__(self, id, name):\n",
    "        self._id = id\n",
    "        self._name = name\n",
    "\n",
    "    def get_id(self):\n",
    "        return self._id\n",
    "\n",
    "    def set_id(self, value):\n",
    "        self._id = value\n",
    "\n",
    "    def get_name(self):\n",
    "        return self._name\n",
    "\n",
    "    def set_name(self, value):\n",
    "        self._name = value"
   ]
  },
  {
   "cell_type": "code",
   "execution_count": 9,
   "id": "542a2dc9-4631-4433-992b-8f863e5279c7",
   "metadata": {},
   "outputs": [],
   "source": [
    "#Ques 5 : Answer\n",
    "\n",
    "\"\"\"What is method overriding in python? Write a python code to demonstrate method overriding.\"\"\"\n",
    "\n",
    "\"\"\"Method overriding is a feature of object-oriented programming languages where the subclass or child class \n",
    "can provide the program with specific characteristics or a specific implementation process of data provided \n",
    "that are already defined in the parent class or superclass.\"\"\"\n",
    "\n",
    "class test:\n",
    "    def __init__(self,name,email):\n",
    "        self.name=name\n",
    "        self.email=email\n",
    "    \n",
    "    @classmethod\n",
    "    def details(cls,name,email):\n",
    "        return cls(name,email)\n",
    "    \n",
    "    def testdetail(self):\n",
    "        return self.name , self.email\n",
    "    \n"
   ]
  },
  {
   "cell_type": "code",
   "execution_count": 10,
   "id": "ec0c5c53-3db4-4682-97c8-bb65bccaf3a9",
   "metadata": {},
   "outputs": [],
   "source": [
    "ts = test.details('hemant','hemantmishra0401@gmail.com')"
   ]
  },
  {
   "cell_type": "code",
   "execution_count": 11,
   "id": "4628cb21-86c3-414d-8013-62c00d27c2fc",
   "metadata": {},
   "outputs": [
    {
     "data": {
      "text/plain": [
       "('hemant', 'hemantmishra0401@gmail.com')"
      ]
     },
     "execution_count": 11,
     "metadata": {},
     "output_type": "execute_result"
    }
   ],
   "source": [
    "ts.testdetail()"
   ]
  },
  {
   "cell_type": "code",
   "execution_count": null,
   "id": "c84fd034-3a1b-4d1c-8b4d-e55a1be7f121",
   "metadata": {},
   "outputs": [],
   "source": []
  }
 ],
 "metadata": {
  "kernelspec": {
   "display_name": "Python 3 (ipykernel)",
   "language": "python",
   "name": "python3"
  },
  "language_info": {
   "codemirror_mode": {
    "name": "ipython",
    "version": 3
   },
   "file_extension": ".py",
   "mimetype": "text/x-python",
   "name": "python",
   "nbconvert_exporter": "python",
   "pygments_lexer": "ipython3",
   "version": "3.10.8"
  }
 },
 "nbformat": 4,
 "nbformat_minor": 5
}
