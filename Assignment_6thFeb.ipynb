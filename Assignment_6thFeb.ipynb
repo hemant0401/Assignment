{
 "cells": [
  {
   "cell_type": "code",
   "execution_count": 1,
   "id": "45fb5ef9-fb5e-40de-8e10-c66c49fb0ba4",
   "metadata": {},
   "outputs": [
    {
     "name": "stdout",
     "output_type": "stream",
     "text": [
      "[1, 2, 3, 4, 44, 55, 66, 34, 56, 78, 89, 34, 1, 2, 3, 1, 4, 34, 55, 67, 78, 89, 45, 22, 61, 34, 56]\n"
     ]
    }
   ],
   "source": [
    "#Ques 1 : Answer\n",
    "\n",
    "list1=[1,2,3,4,[44,55,66,True],False,(34,56,78,89,34),{1,2,3,3,2,1},{1:34,\"key2\":[55,67,78,89],4:(45,22,61,34)},[56,'data science'],'Machine Learning']\n",
    "list2=[]\n",
    "def onlyInt(a):\n",
    "\t\n",
    "\tif type(a)==int:\n",
    "\t\tlist2.append(a) \n",
    "\telif type(a)==list:\n",
    "\t\tfor i in a:\n",
    "\t\t\tif type(i)==int:\n",
    "\t\t\t\tlist2.append(i)\n",
    "\telif type(a)==tuple:\n",
    "\t\tfor i in a:\n",
    "\t\t\tif type(i)==int:\n",
    "\t\t\t\tlist2.append(i)\n",
    "\telif type(a)==set:\n",
    "\t\tfor i in a:\n",
    "\t\t\tif type(i)==int:\n",
    "\t\t\t\tlist2.append(i)\n",
    "\telif type(a)==dict:\n",
    "\t\tke=a.keys()\n",
    "\t\tva=a.values()\n",
    "\n",
    "\t\tfor i in ke:\n",
    "\t\t\tif type(i)==int:\n",
    "\t\t\t\tlist2.append(i)\n",
    "\n",
    "\n",
    "\t\tfor j in va:\t\n",
    "\t\t\tif type(j)==int:\n",
    "\t\t\t\tlist2.append(j) \n",
    "\n",
    "\t\t\telif type(j)==list:\n",
    "\t\t\t\tfor i in j:\n",
    "\t\t\t\t\tif type(i)==int:\n",
    "\t\t\t\t\t\tlist2.append(i)\n",
    "\t\t\telif type(j)==tuple:\n",
    "\t\t\t\tfor i in j:\n",
    "\t\t\t\t\tif type(i)==int:\n",
    "\t\t\t\t\t\tlist2.append(i)\n",
    "\t\t\telif type(j)==set:\n",
    "\t\t\t\tfor i in j:\n",
    "\t\t\t\t\tif type(i)==int:\n",
    "\t\t\t\t\t\tlist2.append(i)\n",
    "\t\t\n",
    "\n",
    "\t\n",
    "list(filter(onlyInt,list1))\n",
    "print(list2)\n"
   ]
  },
  {
   "cell_type": "code",
   "execution_count": 2,
   "id": "fdf6217d-f4fb-4b2b-a070-95e0146f982d",
   "metadata": {},
   "outputs": [
    {
     "name": "stdout",
     "output_type": "stream",
     "text": [
      "4134711838987085478833841242112000\n"
     ]
    }
   ],
   "source": [
    "from functools import reduce\n",
    "a=reduce(lambda y,z : y*z,list2)\n",
    "print(a)"
   ]
  },
  {
   "cell_type": "code",
   "execution_count": 3,
   "id": "c56a2391-a76f-4031-ace9-eccd1ded704d",
   "metadata": {},
   "outputs": [
    {
     "name": "stdout",
     "output_type": "stream",
     "text": [
      "r$dzmg$gl$yvxlnv$z$wzgz$hxrvmgrhg\n"
     ]
    }
   ],
   "source": [
    "#Ques : Answer\n",
    "\n",
    "import string\n",
    "message=\"I want to become a Data Scientist\"\n",
    "message=message.lower()\n",
    "x=list(string.ascii_lowercase)\n",
    "y=x[::-1]\n",
    "list5=[]\n",
    "\n",
    "def encrypting(msg,x,y):\n",
    "\tstr1=\"\"\n",
    "\tfor i in msg:\n",
    "\t\tif i==\" \":\n",
    "\t\t\tstr1=str1+'$'\n",
    "\t\telse:\n",
    "\t\t\ta=x.index(i)\n",
    "\t\t\tb=y[a]\n",
    "\t\t\tstr1=str1+b\n",
    "\treturn str1\n",
    "s=encrypting(message,x,y)\n",
    "print(s)"
   ]
  },
  {
   "cell_type": "code",
   "execution_count": null,
   "id": "4b3b5cb0-5b41-4dd1-9952-0fa79f2c4aef",
   "metadata": {},
   "outputs": [],
   "source": []
  }
 ],
 "metadata": {
  "kernelspec": {
   "display_name": "Python 3 (ipykernel)",
   "language": "python",
   "name": "python3"
  },
  "language_info": {
   "codemirror_mode": {
    "name": "ipython",
    "version": 3
   },
   "file_extension": ".py",
   "mimetype": "text/x-python",
   "name": "python",
   "nbconvert_exporter": "python",
   "pygments_lexer": "ipython3",
   "version": "3.10.8"
  }
 },
 "nbformat": 4,
 "nbformat_minor": 5
}
